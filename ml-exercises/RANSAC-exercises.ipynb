{
 "cells": [
  {
   "cell_type": "code",
   "execution_count": 22,
   "id": "dc5cd233",
   "metadata": {},
   "outputs": [],
   "source": [
    "import numpy as np\n",
    "import pandas as pd\n",
    "import matplotlib.pyplot as plt\n",
    "#%matplotlib inline\n",
    "from sklearn.model_selection import train_test_split\n",
    "from sklearn.preprocessing   import StandardScaler\n",
    "from sklearn.linear_model import RANSACRegressor\n",
    "from sklearn.linear_model import LinearRegression\n",
    "from sklearn.metrics import r2_score"
   ]
  },
  {
   "cell_type": "code",
   "execution_count": 5,
   "id": "2f64ec2b",
   "metadata": {},
   "outputs": [],
   "source": [
    "cols = ['CRIM','ZN','INDUS','CHAS','NOX','RM','AGE','DIS',\n",
    "        'RAD','TAX','PTRATIO','B','LSTAT','MEDV']"
   ]
  },
  {
   "cell_type": "code",
   "execution_count": 6,
   "id": "7dab1b0e",
   "metadata": {},
   "outputs": [],
   "source": [
    "data = pd.read_csv('../ml_data/housing.data',\n",
    "                   sep=' +', engine='python', header=None, \n",
    "                   names=cols)"
   ]
  },
  {
   "cell_type": "code",
   "execution_count": 7,
   "id": "3cb5c98f",
   "metadata": {},
   "outputs": [],
   "source": [
    "X = data.loc[:, 'LSTAT'].values.reshape(-1,1)\n",
    "y = data['MEDV'].values"
   ]
  },
  {
   "cell_type": "code",
   "execution_count": 8,
   "id": "570b6009",
   "metadata": {},
   "outputs": [],
   "source": [
    "scaler = StandardScaler()"
   ]
  },
  {
   "cell_type": "code",
   "execution_count": 9,
   "id": "157c962a",
   "metadata": {},
   "outputs": [
    {
     "data": {
      "text/plain": [
       "StandardScaler()"
      ]
     },
     "execution_count": 9,
     "metadata": {},
     "output_type": "execute_result"
    }
   ],
   "source": [
    "scaler.fit(X)"
   ]
  },
  {
   "cell_type": "code",
   "execution_count": 10,
   "id": "a8d6de89",
   "metadata": {},
   "outputs": [],
   "source": [
    "X = scaler.transform(X)"
   ]
  },
  {
   "cell_type": "code",
   "execution_count": 11,
   "id": "2dd3c58c",
   "metadata": {},
   "outputs": [],
   "source": [
    "X_train, X_test, y_train, y_test = train_test_split(X, y, test_size=0.2)"
   ]
  },
  {
   "cell_type": "code",
   "execution_count": 12,
   "id": "21c08461",
   "metadata": {},
   "outputs": [],
   "source": [
    "ransac = RANSACRegressor()"
   ]
  },
  {
   "cell_type": "code",
   "execution_count": 14,
   "id": "c68d65e3",
   "metadata": {},
   "outputs": [
    {
     "data": {
      "text/plain": [
       "RANSACRegressor()"
      ]
     },
     "execution_count": 14,
     "metadata": {},
     "output_type": "execute_result"
    }
   ],
   "source": [
    "ransac.fit(X_train, y_train)"
   ]
  },
  {
   "cell_type": "code",
   "execution_count": 21,
   "id": "6c565dab",
   "metadata": {},
   "outputs": [
    {
     "name": "stdout",
     "output_type": "stream",
     "text": [
      "Ransac regression result: 0.48350485459867\n"
     ]
    }
   ],
   "source": [
    "r2_ransac = r2_score(y_test, ransac.predict(X_test))\n",
    "print(\"Ransac regression result: {}\".format(r2_ransac))"
   ]
  },
  {
   "cell_type": "code",
   "execution_count": 23,
   "id": "a709fddd",
   "metadata": {},
   "outputs": [],
   "source": [
    "lr = LinearRegression()"
   ]
  },
  {
   "cell_type": "code",
   "execution_count": 25,
   "id": "de813c45",
   "metadata": {},
   "outputs": [
    {
     "data": {
      "text/plain": [
       "LinearRegression()"
      ]
     },
     "execution_count": 25,
     "metadata": {},
     "output_type": "execute_result"
    }
   ],
   "source": [
    "lr.fit(X_train, y_train)"
   ]
  },
  {
   "cell_type": "code",
   "execution_count": 26,
   "id": "243846ad",
   "metadata": {},
   "outputs": [
    {
     "name": "stdout",
     "output_type": "stream",
     "text": [
      "Linear regression result: 0.5829227809731\n"
     ]
    }
   ],
   "source": [
    "r2_lr = r2_score(y_test, lr.predict(X_test))\n",
    "print(\"Linear regression result: {}\".format(r2_lr))"
   ]
  },
  {
   "cell_type": "code",
   "execution_count": 27,
   "id": "909e9f29",
   "metadata": {},
   "outputs": [],
   "source": [
    "the_best_r2=0"
   ]
  },
  {
   "cell_type": "code",
   "execution_count": 28,
   "id": "edcfa518",
   "metadata": {},
   "outputs": [
    {
     "name": "stdout",
     "output_type": "stream",
     "text": [
      "Treshold 10 - R2 0.5759842117845493\n",
      "Treshold 11 - R2 0.42948927206847565\n",
      "Treshold 12 - R2 0.5631851949114496\n",
      "Treshold 13 - R2 0.5705518868780617\n",
      "Treshold 14 - R2 0.5670396485240843\n",
      "Treshold 15 - R2 0.5636620455229444\n",
      "Treshold 16 - R2 0.5817891425076764\n",
      "Treshold 17 - R2 0.5687020986536601\n",
      "Treshold 18 - R2 0.5855977351003883\n",
      "Treshold 19 - R2 0.5840845764386908\n",
      "Treshold 20 - R2 0.5738620093811394\n",
      "Treshold 21 - R2 0.5660924375319005\n",
      "Treshold 22 - R2 0.592537679583333\n",
      "Treshold 23 - R2 0.5867658439567864\n",
      "Treshold 24 - R2 0.5722389789630383\n",
      "Treshold 25 - R2 0.5797852810324091\n",
      "Treshold 26 - R2 0.5500363163179082\n",
      "Treshold 27 - R2 0.5829227809731\n",
      "Treshold 28 - R2 0.5588587189527533\n",
      "Treshold 29 - R2 0.5829227809731\n",
      "Treshold 30 - R2 0.5829227809731\n",
      "Treshold 31 - R2 0.5829227809731\n",
      "Treshold 32 - R2 0.5829227809731\n",
      "Treshold 33 - R2 0.5762379716935737\n",
      "Treshold 34 - R2 0.5829227809731\n",
      "Treshold 35 - R2 0.5829227809731\n",
      "Treshold 36 - R2 0.5829227809731\n",
      "Treshold 37 - R2 0.5829227809731\n",
      "Treshold 38 - R2 0.5829227809731\n",
      "Treshold 39 - R2 0.5829227809731\n"
     ]
    }
   ],
   "source": [
    "for tmp_treshold in range(10,40):\n",
    "    \n",
    "    tmp_ransac = RANSACRegressor(residual_threshold=tmp_treshold)\n",
    "    tmp_ransac.fit(X_train, y_train)\n",
    "    tmp_r2 = r2_score(y_test, tmp_ransac.predict(X_test))\n",
    "    \n",
    "    print(\"Treshold {} - R2 {}\".format(tmp_treshold, tmp_r2))\n",
    "    \n",
    "    if tmp_r2 > the_best_r2:\n",
    "        the_best_r2 = tmp_r2\n",
    "        ransac = tmp_ransac"
   ]
  },
  {
   "cell_type": "code",
   "execution_count": 38,
   "id": "5847711d",
   "metadata": {},
   "outputs": [
    {
     "data": {
      "image/png": "[encoded data removed]",
      "text/plain": [
       "<Figure size 640x480 with 1 Axes>"
      ]
     },
     "metadata": {},
     "output_type": "display_data"
    }
   ],
   "source": [
    "line_X = np.arange(X.min(), X.max())[:, np.newaxis]\n",
    "line_y_ransac = ransac.predict(line_X)\n",
    "line_y_lr = lr.predict(line_X)\n",
    "\n",
    "plt.scatter(X_train[ransac.inlier_mask_], y_train[ransac.inlier_mask_], color='green', marker='.',\n",
    "            label='Inliers')\n",
    "plt.scatter(X_train[~ransac.inlier_mask_], y_train[~ransac.inlier_mask_], color='gold', marker='.',\n",
    "            label='Outliers')\n",
    "plt.plot(line_X, line_y_ransac, color='red', linewidth=2, label='RANSAC regressor')\n",
    "plt.plot(line_X, line_y_lr, color='blue', linewidth=2, label='Linear regression')\n",
    "\n",
    " \n",
    "plt.legend(loc='lower right')\n",
    "plt.xlabel(\"Input\")\n",
    "plt.ylabel(\"Response\")\n",
    "plt.show()"
   ]
  },
  {
   "cell_type": "code",
   "execution_count": 37,
   "id": "2a4c09b3",
   "metadata": {},
   "outputs": [
    {
     "name": "stdout",
     "output_type": "stream",
     "text": [
      "Ransac regression result: 0.592537679583333\n",
      "Linear regression result: 0.5829227809731\n"
     ]
    }
   ],
   "source": [
    "r2_ransac = r2_score(y_test, ransac.predict(X_test))\n",
    "print(\"Ransac regression result: {}\".format(r2_ransac))\n",
    "print(\"Linear regression result: {}\".format(r2_lr))"
   ]
  }
 ],
 "metadata": {
  "kernelspec": {
   "display_name": "Python 3 (ipykernel)",
   "language": "python",
   "name": "python3"
  },
  "language_info": {
   "codemirror_mode": {
    "name": "ipython",
    "version": 3
   },
   "file_extension": ".py",
   "mimetype": "text/x-python",
   "name": "python",
   "nbconvert_exporter": "python",
   "pygments_lexer": "ipython3",
   "version": "3.9.13"
  }
 },
 "nbformat": 4,
 "nbformat_minor": 5
}
