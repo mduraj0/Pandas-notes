{
 "cells": [
  {
   "cell_type": "code",
   "execution_count": 22,
   "id": "4fb6a215",
   "metadata": {},
   "outputs": [],
   "source": [
    "import numpy as np"
   ]
  },
  {
   "cell_type": "code",
   "execution_count": 23,
   "id": "e6ca15c2",
   "metadata": {},
   "outputs": [],
   "source": [
    "a = np.arange(0, 20)"
   ]
  },
  {
   "cell_type": "code",
   "execution_count": 24,
   "id": "c2f8b301",
   "metadata": {},
   "outputs": [
    {
     "data": {
      "text/plain": [
       "(20,)"
      ]
     },
     "execution_count": 24,
     "metadata": {},
     "output_type": "execute_result"
    }
   ],
   "source": [
    "a.shape"
   ]
  },
  {
   "cell_type": "code",
   "execution_count": 25,
   "id": "3e598d15",
   "metadata": {},
   "outputs": [
    {
     "data": {
      "text/plain": [
       "0"
      ]
     },
     "execution_count": 25,
     "metadata": {},
     "output_type": "execute_result"
    }
   ],
   "source": [
    "a[0]"
   ]
  },
  {
   "cell_type": "code",
   "execution_count": 26,
   "id": "a07db8fa",
   "metadata": {},
   "outputs": [
    {
     "data": {
      "text/plain": [
       "4"
      ]
     },
     "execution_count": 26,
     "metadata": {},
     "output_type": "execute_result"
    }
   ],
   "source": [
    "a[4]"
   ]
  },
  {
   "cell_type": "code",
   "execution_count": 31,
   "id": "ea04a998",
   "metadata": {},
   "outputs": [],
   "source": [
    "a = a.reshape(2,10)"
   ]
  },
  {
   "cell_type": "code",
   "execution_count": 32,
   "id": "bd4aefaf",
   "metadata": {},
   "outputs": [
    {
     "data": {
      "text/plain": [
       "(2, 10)"
      ]
     },
     "execution_count": 32,
     "metadata": {},
     "output_type": "execute_result"
    }
   ],
   "source": [
    "a.shape"
   ]
  },
  {
   "cell_type": "code",
   "execution_count": 33,
   "id": "a7c4aa8b",
   "metadata": {},
   "outputs": [
    {
     "data": {
      "text/plain": [
       "array([0, 1, 2, 3, 4, 5, 6, 7, 8, 9])"
      ]
     },
     "execution_count": 33,
     "metadata": {},
     "output_type": "execute_result"
    }
   ],
   "source": [
    "a[0]"
   ]
  },
  {
   "cell_type": "code",
   "execution_count": 35,
   "id": "95119ad4",
   "metadata": {},
   "outputs": [
    {
     "data": {
      "text/plain": [
       "4"
      ]
     },
     "execution_count": 35,
     "metadata": {},
     "output_type": "execute_result"
    }
   ],
   "source": [
    "a[0][4]"
   ]
  },
  {
   "cell_type": "code",
   "execution_count": 36,
   "id": "eaa13508",
   "metadata": {},
   "outputs": [],
   "source": [
    "a = a.reshape(2,5,2)"
   ]
  },
  {
   "cell_type": "code",
   "execution_count": 37,
   "id": "e54851cd",
   "metadata": {},
   "outputs": [
    {
     "data": {
      "text/plain": [
       "(2, 5, 2)"
      ]
     },
     "execution_count": 37,
     "metadata": {},
     "output_type": "execute_result"
    }
   ],
   "source": [
    "a.shape"
   ]
  },
  {
   "cell_type": "code",
   "execution_count": 38,
   "id": "a023351e",
   "metadata": {},
   "outputs": [
    {
     "data": {
      "text/plain": [
       "array([[[ 0,  1],\n",
       "        [ 2,  3],\n",
       "        [ 4,  5],\n",
       "        [ 6,  7],\n",
       "        [ 8,  9]],\n",
       "\n",
       "       [[10, 11],\n",
       "        [12, 13],\n",
       "        [14, 15],\n",
       "        [16, 17],\n",
       "        [18, 19]]])"
      ]
     },
     "execution_count": 38,
     "metadata": {},
     "output_type": "execute_result"
    }
   ],
   "source": [
    "a"
   ]
  },
  {
   "cell_type": "code",
   "execution_count": 39,
   "id": "195b4978",
   "metadata": {},
   "outputs": [
    {
     "data": {
      "text/plain": [
       "array([[0, 1],\n",
       "       [2, 3],\n",
       "       [4, 5],\n",
       "       [6, 7],\n",
       "       [8, 9]])"
      ]
     },
     "execution_count": 39,
     "metadata": {},
     "output_type": "execute_result"
    }
   ],
   "source": [
    "a[0]"
   ]
  },
  {
   "cell_type": "code",
   "execution_count": 40,
   "id": "26921354",
   "metadata": {},
   "outputs": [
    {
     "data": {
      "text/plain": [
       "array([[10, 11],\n",
       "       [12, 13],\n",
       "       [14, 15],\n",
       "       [16, 17],\n",
       "       [18, 19]])"
      ]
     },
     "execution_count": 40,
     "metadata": {},
     "output_type": "execute_result"
    }
   ],
   "source": [
    "a[1]"
   ]
  },
  {
   "cell_type": "code",
   "execution_count": 41,
   "id": "e21ab35e",
   "metadata": {},
   "outputs": [
    {
     "data": {
      "text/plain": [
       "array([8, 9])"
      ]
     },
     "execution_count": 41,
     "metadata": {},
     "output_type": "execute_result"
    }
   ],
   "source": [
    "a[0][4]"
   ]
  },
  {
   "cell_type": "code",
   "execution_count": 42,
   "id": "777ad88a",
   "metadata": {},
   "outputs": [
    {
     "data": {
      "text/plain": [
       "9"
      ]
     },
     "execution_count": 42,
     "metadata": {},
     "output_type": "execute_result"
    }
   ],
   "source": [
    "a[0][4][1]"
   ]
  },
  {
   "cell_type": "code",
   "execution_count": 44,
   "id": "b7a1ca4a",
   "metadata": {},
   "outputs": [],
   "source": [
    "b = np.arange(0, 40, 2).reshape(4,5)"
   ]
  },
  {
   "cell_type": "code",
   "execution_count": 45,
   "id": "ac385e50",
   "metadata": {},
   "outputs": [
    {
     "data": {
      "text/plain": [
       "array([[ 0,  2,  4,  6,  8],\n",
       "       [10, 12, 14, 16, 18],\n",
       "       [20, 22, 24, 26, 28],\n",
       "       [30, 32, 34, 36, 38]])"
      ]
     },
     "execution_count": 45,
     "metadata": {},
     "output_type": "execute_result"
    }
   ],
   "source": [
    "b"
   ]
  },
  {
   "cell_type": "code",
   "execution_count": 51,
   "id": "5cf7c5d9",
   "metadata": {},
   "outputs": [],
   "source": [
    "a_python_list =  [2**x for x in range(10)]"
   ]
  },
  {
   "cell_type": "code",
   "execution_count": 52,
   "id": "5353c6b6",
   "metadata": {},
   "outputs": [],
   "source": [
    "c = []"
   ]
  },
  {
   "cell_type": "code",
   "execution_count": 53,
   "id": "f54eb19c",
   "metadata": {},
   "outputs": [],
   "source": [
    "c.append(a_python_list)"
   ]
  },
  {
   "cell_type": "code",
   "execution_count": 54,
   "id": "b9aefa39",
   "metadata": {},
   "outputs": [
    {
     "data": {
      "text/plain": [
       "[[1, 2, 4, 8, 16, 32, 64, 128, 256, 512]]"
      ]
     },
     "execution_count": 54,
     "metadata": {},
     "output_type": "execute_result"
    }
   ],
   "source": [
    "c"
   ]
  },
  {
   "cell_type": "code",
   "execution_count": 55,
   "id": "3a124107",
   "metadata": {},
   "outputs": [],
   "source": [
    "c1 = np.array(a_python_list)"
   ]
  },
  {
   "cell_type": "code",
   "execution_count": 56,
   "id": "684f6bee",
   "metadata": {},
   "outputs": [
    {
     "data": {
      "text/plain": [
       "array([  1,   2,   4,   8,  16,  32,  64, 128, 256, 512])"
      ]
     },
     "execution_count": 56,
     "metadata": {},
     "output_type": "execute_result"
    }
   ],
   "source": [
    "c1"
   ]
  },
  {
   "cell_type": "code",
   "execution_count": 57,
   "id": "08d19be3",
   "metadata": {},
   "outputs": [],
   "source": [
    "zero_array = np.zeros(10)"
   ]
  },
  {
   "cell_type": "code",
   "execution_count": 58,
   "id": "15244fb1",
   "metadata": {},
   "outputs": [
    {
     "data": {
      "text/plain": [
       "array([0., 0., 0., 0., 0., 0., 0., 0., 0., 0.])"
      ]
     },
     "execution_count": 58,
     "metadata": {},
     "output_type": "execute_result"
    }
   ],
   "source": [
    "zero_array"
   ]
  },
  {
   "cell_type": "code",
   "execution_count": 61,
   "id": "bb8472b2",
   "metadata": {},
   "outputs": [],
   "source": [
    "one_array = np.ones(10)"
   ]
  },
  {
   "cell_type": "code",
   "execution_count": 62,
   "id": "b11a6139",
   "metadata": {},
   "outputs": [
    {
     "data": {
      "text/plain": [
       "array([1., 1., 1., 1., 1., 1., 1., 1., 1., 1.])"
      ]
     },
     "execution_count": 62,
     "metadata": {},
     "output_type": "execute_result"
    }
   ],
   "source": [
    "one_array"
   ]
  },
  {
   "cell_type": "code",
   "execution_count": 63,
   "id": "fc4fcb71",
   "metadata": {},
   "outputs": [],
   "source": [
    "empty_array = np.empty(100)"
   ]
  },
  {
   "cell_type": "code",
   "execution_count": 64,
   "id": "54083c42",
   "metadata": {},
   "outputs": [
    {
     "data": {
      "text/plain": [
       "array([0.00000000e+000, 0.00000000e+000, 4.94065646e-324, 6.95312125e-310,\n",
       "       4.69362364e-322, 9.65735033e-312, 9.65735033e-312, 9.65735033e-312,\n",
       "       9.65735032e-312, 9.65735032e-312, 9.65735033e-312, 9.65735033e-312,\n",
       "       9.65735033e-312, 9.65735033e-312, 9.65735033e-312, 9.65735033e-312,\n",
       "       9.65735033e-312, 9.65735034e-312, 9.65735034e-312, 9.65735020e-312,\n",
       "       9.65735021e-312, 9.65735004e-312, 9.65734928e-312, 9.65734928e-312,\n",
       "       9.65734927e-312, 9.65734927e-312, 9.65734929e-312, 9.65734927e-312,\n",
       "       9.65734928e-312, 9.65734927e-312, 9.65734928e-312, 9.65735071e-312,\n",
       "       9.65735071e-312, 9.65735072e-312, 9.65735071e-312, 9.65735071e-312,\n",
       "       9.65735071e-312, 9.65735072e-312, 9.65735072e-312, 9.65735072e-312,\n",
       "       9.65735072e-312, 9.65735072e-312, 9.65734902e-312, 9.65734903e-312,\n",
       "       9.65734904e-312, 9.65734903e-312, 9.65734904e-312, 9.65734904e-312,\n",
       "       9.65734904e-312, 9.65734904e-312, 9.65734904e-312, 9.65734904e-312,\n",
       "       9.65734904e-312, 9.65734903e-312, 9.65734903e-312, 9.65735082e-312,\n",
       "       9.65735082e-312, 9.65735081e-312, 9.65735081e-312, 9.65735081e-312,\n",
       "       9.65735081e-312, 9.65735081e-312, 9.65735081e-312, 9.65735081e-312,\n",
       "       9.65735081e-312, 9.65735081e-312, 9.65735081e-312, 9.65735081e-312,\n",
       "       9.65735081e-312, 9.65735082e-312, 9.65735082e-312, 9.65735082e-312,\n",
       "       9.65735082e-312, 9.65735082e-312, 9.65735082e-312, 9.65735082e-312,\n",
       "       9.65735082e-312, 9.65735082e-312, 9.65735082e-312, 9.65735081e-312,\n",
       "       0.00000000e+000, 0.00000000e+000, 0.00000000e+000, 0.00000000e+000,\n",
       "       0.00000000e+000, 0.00000000e+000, 0.00000000e+000, 0.00000000e+000,\n",
       "       0.00000000e+000, 0.00000000e+000, 0.00000000e+000, 0.00000000e+000,\n",
       "       0.00000000e+000, 0.00000000e+000, 0.00000000e+000, 0.00000000e+000,\n",
       "       0.00000000e+000, 0.00000000e+000, 0.00000000e+000, 0.00000000e+000])"
      ]
     },
     "execution_count": 64,
     "metadata": {},
     "output_type": "execute_result"
    }
   ],
   "source": [
    "empty_array"
   ]
  },
  {
   "cell_type": "code",
   "execution_count": 67,
   "id": "fe36f7ca",
   "metadata": {},
   "outputs": [
    {
     "data": {
      "text/plain": [
       "array([[13, 13, 13, 13, 13],\n",
       "       [13, 13, 13, 13, 13],\n",
       "       [13, 13, 13, 13, 13],\n",
       "       [13, 13, 13, 13, 13],\n",
       "       [13, 13, 13, 13, 13]])"
      ]
     },
     "execution_count": 67,
     "metadata": {},
     "output_type": "execute_result"
    }
   ],
   "source": [
    "lucky_array = np.full((5,5), 13)\n",
    "lucky_array"
   ]
  },
  {
   "cell_type": "code",
   "execution_count": 71,
   "id": "d0727816",
   "metadata": {},
   "outputs": [
    {
     "data": {
      "text/plain": [
       "array([[1., 0., 0., 0., 0.],\n",
       "       [0., 1., 0., 0., 0.],\n",
       "       [0., 0., 1., 0., 0.],\n",
       "       [0., 0., 0., 1., 0.],\n",
       "       [0., 0., 0., 0., 1.]])"
      ]
     },
     "execution_count": 71,
     "metadata": {},
     "output_type": "execute_result"
    }
   ],
   "source": [
    "diagonal_array = np.eye(5)\n",
    "diagonal_array"
   ]
  },
  {
   "cell_type": "code",
   "execution_count": 72,
   "id": "6082c01e",
   "metadata": {},
   "outputs": [
    {
     "data": {
      "text/plain": [
       "array([0.23624679, 0.93200908, 0.73003085, 0.75942117, 0.72149874,\n",
       "       0.00432536, 0.23218955, 0.54397855, 0.73785957, 0.3642366 ])"
      ]
     },
     "execution_count": 72,
     "metadata": {},
     "output_type": "execute_result"
    }
   ],
   "source": [
    "random_array =np.random.random(10)\n",
    "random_array"
   ]
  },
  {
   "cell_type": "code",
   "execution_count": 75,
   "id": "08d1f76f",
   "metadata": {},
   "outputs": [
    {
     "data": {
      "text/plain": [
       "array([100., 125., 150., 175., 200.])"
      ]
     },
     "execution_count": 75,
     "metadata": {},
     "output_type": "execute_result"
    }
   ],
   "source": [
    "linspace_array = np.linspace(100, 200, num=5)\n",
    "linspace_array"
   ]
  },
  {
   "cell_type": "code",
   "execution_count": null,
   "id": "ba977795",
   "metadata": {},
   "outputs": [],
   "source": []
  }
 ],
 "metadata": {
  "kernelspec": {
   "display_name": "Python 3 (ipykernel)",
   "language": "python",
   "name": "python3"
  },
  "language_info": {
   "codemirror_mode": {
    "name": "ipython",
    "version": 3
   },
   "file_extension": ".py",
   "mimetype": "text/x-python",
   "name": "python",
   "nbconvert_exporter": "python",
   "pygments_lexer": "ipython3",
   "version": "3.9.13"
  }
 },
 "nbformat": 4,
 "nbformat_minor": 5
}
