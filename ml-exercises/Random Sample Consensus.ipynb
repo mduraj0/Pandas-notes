{
 "cells": [
  {
   "cell_type": "code",
   "execution_count": 1,
   "id": "10795eb7",
   "metadata": {},
   "outputs": [],
   "source": [
    "import numpy as np"
   ]
  },
  {
   "cell_type": "code",
   "execution_count": 7,
   "id": "bbae4a78",
   "metadata": {},
   "outputs": [],
   "source": [
    "rand_a = np.random.rand"
   ]
  },
  {
   "cell_type": "code",
   "execution_count": 9,
   "id": "e2dfa0ce",
   "metadata": {},
   "outputs": [
    {
     "data": {
      "text/plain": [
       "0.553999990895878"
      ]
     },
     "execution_count": 9,
     "metadata": {},
     "output_type": "execute_result"
    }
   ],
   "source": [
    "rand_a()"
   ]
  },
  {
   "cell_type": "code",
   "execution_count": 10,
   "id": "263b0a63",
   "metadata": {},
   "outputs": [],
   "source": [
    "rand_a = np.random.rand(2,5)"
   ]
  },
  {
   "cell_type": "code",
   "execution_count": 11,
   "id": "561669b1",
   "metadata": {},
   "outputs": [
    {
     "data": {
      "text/plain": [
       "array([[0.44231205, 0.51123514, 0.65190847, 0.75879922, 0.39772393],\n",
       "       [0.83232444, 0.29807368, 0.18638299, 0.78886154, 0.20842597]])"
      ]
     },
     "execution_count": 11,
     "metadata": {},
     "output_type": "execute_result"
    }
   ],
   "source": [
    "rand_a"
   ]
  },
  {
   "cell_type": "code",
   "execution_count": 12,
   "id": "76f09050",
   "metadata": {},
   "outputs": [],
   "source": [
    "rand_b = np.random.rand(1,5)"
   ]
  },
  {
   "cell_type": "code",
   "execution_count": 13,
   "id": "4eae895b",
   "metadata": {},
   "outputs": [
    {
     "data": {
      "text/plain": [
       "array([[0.64421939, 0.15611128, 0.44661884, 0.71620855, 0.09944989]])"
      ]
     },
     "execution_count": 13,
     "metadata": {},
     "output_type": "execute_result"
    }
   ],
   "source": [
    "rand_b"
   ]
  },
  {
   "cell_type": "code",
   "execution_count": 14,
   "id": "299dffed",
   "metadata": {},
   "outputs": [],
   "source": [
    "rand_b = rand_b * 100"
   ]
  },
  {
   "cell_type": "code",
   "execution_count": 15,
   "id": "bf5cf387",
   "metadata": {},
   "outputs": [
    {
     "data": {
      "text/plain": [
       "array([[64.4219386 , 15.61112751, 44.66188357, 71.62085457,  9.9449894 ]])"
      ]
     },
     "execution_count": 15,
     "metadata": {},
     "output_type": "execute_result"
    }
   ],
   "source": [
    "rand_b"
   ]
  },
  {
   "cell_type": "code",
   "execution_count": 16,
   "id": "27652cbd",
   "metadata": {},
   "outputs": [],
   "source": [
    "rand_c = np.vstack((rand_a, rand_b))"
   ]
  },
  {
   "cell_type": "code",
   "execution_count": 17,
   "id": "63670b00",
   "metadata": {},
   "outputs": [
    {
     "data": {
      "text/plain": [
       "array([[ 0.44231205,  0.51123514,  0.65190847,  0.75879922,  0.39772393],\n",
       "       [ 0.83232444,  0.29807368,  0.18638299,  0.78886154,  0.20842597],\n",
       "       [64.4219386 , 15.61112751, 44.66188357, 71.62085457,  9.9449894 ]])"
      ]
     },
     "execution_count": 17,
     "metadata": {},
     "output_type": "execute_result"
    }
   ],
   "source": [
    "rand_c"
   ]
  },
  {
   "cell_type": "code",
   "execution_count": 18,
   "id": "f89ebe1d",
   "metadata": {},
   "outputs": [],
   "source": [
    "rand_b = np.random.rand(2,1)"
   ]
  },
  {
   "cell_type": "code",
   "execution_count": 19,
   "id": "95ccf7cd",
   "metadata": {},
   "outputs": [
    {
     "data": {
      "text/plain": [
       "array([[0.10002705],\n",
       "       [0.20819542]])"
      ]
     },
     "execution_count": 19,
     "metadata": {},
     "output_type": "execute_result"
    }
   ],
   "source": [
    "rand_b"
   ]
  },
  {
   "cell_type": "code",
   "execution_count": 20,
   "id": "a0000772",
   "metadata": {},
   "outputs": [],
   "source": [
    "rand_c = np.hstack((rand_a, rand_b))"
   ]
  },
  {
   "cell_type": "code",
   "execution_count": 21,
   "id": "330e564b",
   "metadata": {},
   "outputs": [
    {
     "data": {
      "text/plain": [
       "array([[0.44231205, 0.51123514, 0.65190847, 0.75879922, 0.39772393,\n",
       "        0.10002705],\n",
       "       [0.83232444, 0.29807368, 0.18638299, 0.78886154, 0.20842597,\n",
       "        0.20819542]])"
      ]
     },
     "execution_count": 21,
     "metadata": {},
     "output_type": "execute_result"
    }
   ],
   "source": [
    "rand_c"
   ]
  },
  {
   "cell_type": "code",
   "execution_count": 24,
   "id": "d59ab975",
   "metadata": {},
   "outputs": [],
   "source": [
    "X = rand_c[:,2]"
   ]
  },
  {
   "cell_type": "code",
   "execution_count": 25,
   "id": "36ca3895",
   "metadata": {},
   "outputs": [
    {
     "data": {
      "text/plain": [
       "array([0.65190847, 0.18638299])"
      ]
     },
     "execution_count": 25,
     "metadata": {},
     "output_type": "execute_result"
    }
   ],
   "source": [
    "X"
   ]
  },
  {
   "cell_type": "code",
   "execution_count": 26,
   "id": "1a97b755",
   "metadata": {},
   "outputs": [],
   "source": [
    "a=3\n",
    "b=8"
   ]
  },
  {
   "cell_type": "code",
   "execution_count": 27,
   "id": "96e20045",
   "metadata": {},
   "outputs": [],
   "source": [
    "y = a*X+b"
   ]
  },
  {
   "cell_type": "code",
   "execution_count": 28,
   "id": "c0106f98",
   "metadata": {},
   "outputs": [
    {
     "data": {
      "text/plain": [
       "array([9.95572542, 8.55914898])"
      ]
     },
     "execution_count": 28,
     "metadata": {},
     "output_type": "execute_result"
    }
   ],
   "source": [
    "y"
   ]
  },
  {
   "cell_type": "code",
   "execution_count": 38,
   "id": "30605372",
   "metadata": {},
   "outputs": [],
   "source": [
    "X = np.random.randint(low=0, high=10, size = 10) "
   ]
  },
  {
   "cell_type": "code",
   "execution_count": 39,
   "id": "3f7b7dfe",
   "metadata": {},
   "outputs": [
    {
     "data": {
      "text/plain": [
       "array([4, 0, 3, 8, 6, 9, 4, 2, 6, 8])"
      ]
     },
     "execution_count": 39,
     "metadata": {},
     "output_type": "execute_result"
    }
   ],
   "source": [
    "X"
   ]
  },
  {
   "cell_type": "code",
   "execution_count": 40,
   "id": "75652a4a",
   "metadata": {},
   "outputs": [],
   "source": [
    "X = X * 10"
   ]
  },
  {
   "cell_type": "code",
   "execution_count": 41,
   "id": "80bd5d05",
   "metadata": {},
   "outputs": [
    {
     "data": {
      "text/plain": [
       "array([40,  0, 30, 80, 60, 90, 40, 20, 60, 80])"
      ]
     },
     "execution_count": 41,
     "metadata": {},
     "output_type": "execute_result"
    }
   ],
   "source": [
    "X"
   ]
  },
  {
   "cell_type": "code",
   "execution_count": 60,
   "id": "d3f3ba7f",
   "metadata": {},
   "outputs": [
    {
     "data": {
      "text/plain": [
       "array([8, 3, 6])"
      ]
     },
     "execution_count": 60,
     "metadata": {},
     "output_type": "execute_result"
    }
   ],
   "source": [
    "np.random.choice(10, size=3, replace=False)"
   ]
  },
  {
   "cell_type": "code",
   "execution_count": 63,
   "id": "afd47384",
   "metadata": {},
   "outputs": [
    {
     "data": {
      "text/plain": [
       "array([3, 5, 7, 7, 8])"
      ]
     },
     "execution_count": 63,
     "metadata": {},
     "output_type": "execute_result"
    }
   ],
   "source": [
    "np.random.choice(10, size=5, replace=True)"
   ]
  },
  {
   "cell_type": "code",
   "execution_count": 102,
   "id": "0ddf73f9",
   "metadata": {},
   "outputs": [],
   "source": [
    "idx = np.random.choice(X.shape[0], size = 3, replace=False)"
   ]
  },
  {
   "cell_type": "code",
   "execution_count": 103,
   "id": "00d8c5f8",
   "metadata": {},
   "outputs": [
    {
     "data": {
      "text/plain": [
       "array([0, 5, 9])"
      ]
     },
     "execution_count": 103,
     "metadata": {},
     "output_type": "execute_result"
    }
   ],
   "source": [
    "idx"
   ]
  },
  {
   "cell_type": "code",
   "execution_count": 104,
   "id": "c08bbc45",
   "metadata": {},
   "outputs": [
    {
     "name": "stdout",
     "output_type": "stream",
     "text": [
      "[40  0 30 80 60 90 40 20 60 80]\n",
      "[0 5 9]\n",
      "[40 90 80]\n"
     ]
    }
   ],
   "source": [
    "print(X)\n",
    "print(idx)\n",
    "print(X[idx])"
   ]
  },
  {
   "cell_type": "code",
   "execution_count": null,
   "id": "589e605d",
   "metadata": {},
   "outputs": [],
   "source": []
  }
 ],
 "metadata": {
  "kernelspec": {
   "display_name": "Python 3 (ipykernel)",
   "language": "python",
   "name": "python3"
  },
  "language_info": {
   "codemirror_mode": {
    "name": "ipython",
    "version": 3
   },
   "file_extension": ".py",
   "mimetype": "text/x-python",
   "name": "python",
   "nbconvert_exporter": "python",
   "pygments_lexer": "ipython3",
   "version": "3.9.13"
  }
 },
 "nbformat": 4,
 "nbformat_minor": 5
}
