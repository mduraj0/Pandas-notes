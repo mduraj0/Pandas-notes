{
 "cells": [
  {
   "cell_type": "code",
   "execution_count": 1,
   "id": "89f0cb17",
   "metadata": {},
   "outputs": [],
   "source": [
    "import pandas as pd\n",
    "import numpy as np\n",
    "import matplotlib.pyplot as plt\n",
    "%matplotlib inline\n",
    " \n",
    "from sklearn.preprocessing import StandardScaler\n",
    "from sklearn.model_selection import train_test_split\n",
    "from sklearn.metrics import r2_score\n",
    " \n",
    "from sklearn.linear_model import Lasso\n",
    "from sklearn.linear_model import Ridge\n",
    "from sklearn.linear_model import ElasticNet"
   ]
  },
  {
   "cell_type": "code",
   "execution_count": 2,
   "id": "efe4d114",
   "metadata": {},
   "outputs": [],
   "source": [
    "cols = ['CRIM','ZN','INDUS','CHAS','NOX','RM','AGE','DIS',\n",
    "        'RAD','TAX','PTRATIO','B','LSTAT','MEDV']\n",
    " \n",
    "data = pd.read_csv('../ml_data/housing.data',\n",
    "                   sep=' +', engine='python', header=None, \n",
    "                   names=cols)"
   ]
  },
  {
   "cell_type": "code",
   "execution_count": 3,
   "id": "ae19c09e",
   "metadata": {},
   "outputs": [],
   "source": [
    "X = data.drop('MEDV', axis=1)\n",
    "y = data['MEDV'].values"
   ]
  },
  {
   "cell_type": "code",
   "execution_count": 15,
   "id": "09dd06ac",
   "metadata": {},
   "outputs": [
    {
     "data": {
      "text/html": [
       "<div>\n",
       "<style scoped>\n",
       "    .dataframe tbody tr th:only-of-type {\n",
       "        vertical-align: middle;\n",
       "    }\n",
       "\n",
       "    .dataframe tbody tr th {\n",
       "        vertical-align: top;\n",
       "    }\n",
       "\n",
       "    .dataframe thead th {\n",
       "        text-align: right;\n",
       "    }\n",
       "</style>\n",
       "<table border=\"1\" class=\"dataframe\">\n",
       "  <thead>\n",
       "    <tr style=\"text-align: right;\">\n",
       "      <th></th>\n",
       "      <th>CRIM</th>\n",
       "      <th>ZN</th>\n",
       "      <th>INDUS</th>\n",
       "      <th>CHAS</th>\n",
       "      <th>NOX</th>\n",
       "      <th>RM</th>\n",
       "      <th>AGE</th>\n",
       "      <th>DIS</th>\n",
       "      <th>RAD</th>\n",
       "      <th>TAX</th>\n",
       "      <th>PTRATIO</th>\n",
       "      <th>B</th>\n",
       "      <th>LSTAT</th>\n",
       "    </tr>\n",
       "  </thead>\n",
       "  <tbody>\n",
       "    <tr>\n",
       "      <th>0</th>\n",
       "      <td>0.00632</td>\n",
       "      <td>18.0</td>\n",
       "      <td>2.31</td>\n",
       "      <td>0</td>\n",
       "      <td>0.538</td>\n",
       "      <td>6.575</td>\n",
       "      <td>65.2</td>\n",
       "      <td>4.0900</td>\n",
       "      <td>1</td>\n",
       "      <td>296.0</td>\n",
       "      <td>15.3</td>\n",
       "      <td>396.90</td>\n",
       "      <td>4.98</td>\n",
       "    </tr>\n",
       "    <tr>\n",
       "      <th>1</th>\n",
       "      <td>0.02731</td>\n",
       "      <td>0.0</td>\n",
       "      <td>7.07</td>\n",
       "      <td>0</td>\n",
       "      <td>0.469</td>\n",
       "      <td>6.421</td>\n",
       "      <td>78.9</td>\n",
       "      <td>4.9671</td>\n",
       "      <td>2</td>\n",
       "      <td>242.0</td>\n",
       "      <td>17.8</td>\n",
       "      <td>396.90</td>\n",
       "      <td>9.14</td>\n",
       "    </tr>\n",
       "    <tr>\n",
       "      <th>2</th>\n",
       "      <td>0.02729</td>\n",
       "      <td>0.0</td>\n",
       "      <td>7.07</td>\n",
       "      <td>0</td>\n",
       "      <td>0.469</td>\n",
       "      <td>7.185</td>\n",
       "      <td>61.1</td>\n",
       "      <td>4.9671</td>\n",
       "      <td>2</td>\n",
       "      <td>242.0</td>\n",
       "      <td>17.8</td>\n",
       "      <td>392.83</td>\n",
       "      <td>4.03</td>\n",
       "    </tr>\n",
       "    <tr>\n",
       "      <th>3</th>\n",
       "      <td>0.03237</td>\n",
       "      <td>0.0</td>\n",
       "      <td>2.18</td>\n",
       "      <td>0</td>\n",
       "      <td>0.458</td>\n",
       "      <td>6.998</td>\n",
       "      <td>45.8</td>\n",
       "      <td>6.0622</td>\n",
       "      <td>3</td>\n",
       "      <td>222.0</td>\n",
       "      <td>18.7</td>\n",
       "      <td>394.63</td>\n",
       "      <td>2.94</td>\n",
       "    </tr>\n",
       "    <tr>\n",
       "      <th>4</th>\n",
       "      <td>0.06905</td>\n",
       "      <td>0.0</td>\n",
       "      <td>2.18</td>\n",
       "      <td>0</td>\n",
       "      <td>0.458</td>\n",
       "      <td>7.147</td>\n",
       "      <td>54.2</td>\n",
       "      <td>6.0622</td>\n",
       "      <td>3</td>\n",
       "      <td>222.0</td>\n",
       "      <td>18.7</td>\n",
       "      <td>396.90</td>\n",
       "      <td>5.33</td>\n",
       "    </tr>\n",
       "  </tbody>\n",
       "</table>\n",
       "</div>"
      ],
      "text/plain": [
       "      CRIM    ZN  INDUS  CHAS    NOX     RM   AGE     DIS  RAD    TAX  \\\n",
       "0  0.00632  18.0   2.31     0  0.538  6.575  65.2  4.0900    1  296.0   \n",
       "1  0.02731   0.0   7.07     0  0.469  6.421  78.9  4.9671    2  242.0   \n",
       "2  0.02729   0.0   7.07     0  0.469  7.185  61.1  4.9671    2  242.0   \n",
       "3  0.03237   0.0   2.18     0  0.458  6.998  45.8  6.0622    3  222.0   \n",
       "4  0.06905   0.0   2.18     0  0.458  7.147  54.2  6.0622    3  222.0   \n",
       "\n",
       "   PTRATIO       B  LSTAT  \n",
       "0     15.3  396.90   4.98  \n",
       "1     17.8  396.90   9.14  \n",
       "2     17.8  392.83   4.03  \n",
       "3     18.7  394.63   2.94  \n",
       "4     18.7  396.90   5.33  "
      ]
     },
     "execution_count": 15,
     "metadata": {},
     "output_type": "execute_result"
    }
   ],
   "source": [
    "X.head()"
   ]
  },
  {
   "cell_type": "code",
   "execution_count": 17,
   "id": "5a5db4f0",
   "metadata": {},
   "outputs": [],
   "source": [
    "scaler = StandardScaler()"
   ]
  },
  {
   "cell_type": "code",
   "execution_count": 18,
   "id": "629dd0eb",
   "metadata": {},
   "outputs": [
    {
     "data": {
      "text/plain": [
       "StandardScaler()"
      ]
     },
     "execution_count": 18,
     "metadata": {},
     "output_type": "execute_result"
    }
   ],
   "source": [
    "scaler.fit(X)"
   ]
  },
  {
   "cell_type": "code",
   "execution_count": 19,
   "id": "40e57d51",
   "metadata": {},
   "outputs": [],
   "source": [
    "X = scaler.transform(X)"
   ]
  },
  {
   "cell_type": "code",
   "execution_count": 31,
   "id": "115b7db2",
   "metadata": {},
   "outputs": [],
   "source": [
    "X_train, X_test, y_train, y_test = train_test_split(X, y, test_size=0.2)"
   ]
  },
  {
   "cell_type": "code",
   "execution_count": 71,
   "id": "2244b484",
   "metadata": {},
   "outputs": [],
   "source": [
    "df_ridge = pd.DataFrame({\n",
    "    'param_value' : np.arange(0.1, 10.1, 0.1),\n",
    "    'r2_results' : 0.,\n",
    "    'number_of_features' : 0\n",
    "})"
   ]
  },
  {
   "cell_type": "code",
   "execution_count": 72,
   "id": "79966aa1",
   "metadata": {},
   "outputs": [],
   "source": [
    "for i in range(df_ridge.shape[0]):\n",
    "    alpha = df.at[i, 'param_value']\n",
    "    model = Ridge(alpha=alpha)\n",
    "    model.fit(X_train, y_train)\n",
    "    df_ridge.at[i, 'r2_results'] = r2_score(y_test, model.predict(X_test))\n",
    "    df_ridge.at[i, 'number_of_features'] = len(model.coef_[model.coef_ > 0])"
   ]
  },
  {
   "cell_type": "code",
   "execution_count": 73,
   "id": "b8a0a8dd",
   "metadata": {},
   "outputs": [],
   "source": [
    "lasso_df = pd.DataFrame({'param_value': np.arange(start = 0.1, stop = 10.1, step = 0.1),\n",
    "                      'r2_result': 0.,\n",
    "                      'number_of_features':0})"
   ]
  },
  {
   "cell_type": "code",
   "execution_count": 74,
   "id": "b71a19fa",
   "metadata": {},
   "outputs": [],
   "source": [
    "for i in range(lasso_df.shape[0]):\n",
    "    \n",
    "    alpha = lasso_df.at[i, 'param_value']\n",
    "    model = Lasso(alpha=alpha)\n",
    "    model.fit(X_train, y_train)\n",
    "    \n",
    "    lasso_df.at[i, 'r2_result'] = r2_score(y_test, model.predict(X_test))\n",
    "    lasso_df.at[i, 'number_of_features'] = len(model.coef_[ model.coef_ > 0])"
   ]
  },
  {
   "cell_type": "code",
   "execution_count": 75,
   "id": "a1465a9a",
   "metadata": {},
   "outputs": [],
   "source": [
    "elastic_df = pd.DataFrame({\n",
    "    'param_value' : np.arange(0.1, 10.1, 0.1),\n",
    "    'r2_result' : 0.,\n",
    "    'number_of_features' : 0\n",
    "})"
   ]
  },
  {
   "cell_type": "code",
   "execution_count": 76,
   "id": "b312a9b6",
   "metadata": {},
   "outputs": [],
   "source": [
    "for i in range(elastic_df.shape[0]):\n",
    "    alpha = elastic_df.at[i, 'param_value']\n",
    "    model = ElasticNet(alpha=alpha)\n",
    "    model.fit(X_train, y_train)\n",
    "    elastic_df.at[i, 'r2_result'] = r2_score(y_test, model.predict(X_test))\n",
    "    elastic_df.at[i, 'number_of_features'] = len(model.coef_[model.coef_ > 0])"
   ]
  },
  {
   "cell_type": "code",
   "execution_count": 102,
   "id": "c68a060e",
   "metadata": {},
   "outputs": [
    {
     "data": {
      "text/plain": [
       "<matplotlib.collections.PathCollection at 0x1e360d91d90>"
      ]
     },
     "execution_count": 102,
     "metadata": {},
     "output_type": "execute_result"
    },
    {
     "data": {
      "image/png": "[encoded data removed]",
      "text/plain": [
       "<Figure size 1000x1000 with 3 Axes>"
      ]
     },
     "metadata": {},
     "output_type": "display_data"
    }
   ],
   "source": [
    "fig, axs = plt.subplots(3, figsize=(10,10))\n",
    "axs[0].title.set_text('Lasso')\n",
    "axs[0].scatter(x = lasso_df['param_value'], y=lasso_df['r2_result']*10)\n",
    "axs[0].scatter(x = lasso_df['param_value'], y=lasso_df['number_of_features'])\n",
    "axs[1].title.set_text('Ridge')\n",
    "axs[1].scatter(x = ridge_df['param_value'], y=ridge_df['r2_result']*10)\n",
    "axs[1].scatter(x = ridge_df['param_value'], y=ridge_df['number_of_features'])\n",
    "axs[2].title.set_text('Elastic Net')\n",
    "axs[2].scatter(x = elastic_df['param_value'], y=elastic_df['r2_result']*10)\n",
    "axs[2].scatter(x = elastic_df['param_value'], y=elastic_df['number_of_features'])"
   ]
  },
  {
   "cell_type": "code",
   "execution_count": null,
   "id": "c9071922",
   "metadata": {},
   "outputs": [],
   "source": []
  }
 ],
 "metadata": {
  "kernelspec": {
   "display_name": "Python 3 (ipykernel)",
   "language": "python",
   "name": "python3"
  },
  "language_info": {
   "codemirror_mode": {
    "name": "ipython",
    "version": 3
   },
   "file_extension": ".py",
   "mimetype": "text/x-python",
   "name": "python",
   "nbconvert_exporter": "python",
   "pygments_lexer": "ipython3",
   "version": "3.9.13"
  }
 },
 "nbformat": 4,
 "nbformat_minor": 5
}
