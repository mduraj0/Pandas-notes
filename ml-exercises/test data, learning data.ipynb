{
 "cells": [
  {
   "cell_type": "code",
   "execution_count": 1,
   "id": "4ddf9d99",
   "metadata": {},
   "outputs": [],
   "source": [
    "import numpy as np"
   ]
  },
  {
   "cell_type": "code",
   "execution_count": 6,
   "id": "3d8da020",
   "metadata": {},
   "outputs": [],
   "source": [
    "arr = np.arange(5, 30 , 2)"
   ]
  },
  {
   "cell_type": "code",
   "execution_count": 7,
   "id": "4377cf64",
   "metadata": {},
   "outputs": [
    {
     "data": {
      "text/plain": [
       "array([ 5,  7,  9, 11, 13, 15, 17, 19, 21, 23, 25, 27, 29])"
      ]
     },
     "execution_count": 7,
     "metadata": {},
     "output_type": "execute_result"
    }
   ],
   "source": [
    "arr"
   ]
  },
  {
   "cell_type": "code",
   "execution_count": 8,
   "id": "11ed8f48",
   "metadata": {},
   "outputs": [],
   "source": [
    "boolArr = arr < 10"
   ]
  },
  {
   "cell_type": "code",
   "execution_count": 9,
   "id": "3aa188c2",
   "metadata": {},
   "outputs": [
    {
     "data": {
      "text/plain": [
       "array([5, 7, 9])"
      ]
     },
     "execution_count": 9,
     "metadata": {},
     "output_type": "execute_result"
    }
   ],
   "source": [
    "arr[boolArr]"
   ]
  },
  {
   "cell_type": "code",
   "execution_count": 10,
   "id": "c105d249",
   "metadata": {},
   "outputs": [
    {
     "data": {
      "text/plain": [
       "array([ 5,  7,  9, 11, 13, 15, 17, 19])"
      ]
     },
     "execution_count": 10,
     "metadata": {},
     "output_type": "execute_result"
    }
   ],
   "source": [
    "arr[arr < 20]"
   ]
  },
  {
   "cell_type": "code",
   "execution_count": 11,
   "id": "ee19fb1a",
   "metadata": {},
   "outputs": [
    {
     "data": {
      "text/plain": [
       "array([ 9, 15, 21, 27])"
      ]
     },
     "execution_count": 11,
     "metadata": {},
     "output_type": "execute_result"
    }
   ],
   "source": [
    "arr[arr % 3 == 0]"
   ]
  },
  {
   "cell_type": "code",
   "execution_count": 14,
   "id": "d4fbf52c",
   "metadata": {},
   "outputs": [
    {
     "data": {
      "text/plain": [
       "array([11, 13, 15, 17, 19])"
      ]
     },
     "execution_count": 14,
     "metadata": {},
     "output_type": "execute_result"
    }
   ],
   "source": [
    "arr[(arr > 10) & (arr < 20)]"
   ]
  },
  {
   "cell_type": "code",
   "execution_count": 15,
   "id": "e2a6f78d",
   "metadata": {},
   "outputs": [
    {
     "ename": "ValueError",
     "evalue": "cannot reshape array of size 13 into shape (4,6)",
     "output_type": "error",
     "traceback": [
      "\u001b[1;31m---------------------------------------------------------------------------\u001b[0m",
      "\u001b[1;31mValueError\u001b[0m                                Traceback (most recent call last)",
      "Input \u001b[1;32mIn [15]\u001b[0m, in \u001b[0;36m<cell line: 1>\u001b[1;34m()\u001b[0m\n\u001b[1;32m----> 1\u001b[0m \u001b[43marr\u001b[49m\u001b[38;5;241;43m.\u001b[39;49m\u001b[43mreshape\u001b[49m\u001b[43m(\u001b[49m\u001b[38;5;241;43m4\u001b[39;49m\u001b[43m,\u001b[49m\u001b[38;5;241;43m6\u001b[39;49m\u001b[43m)\u001b[49m\n",
      "\u001b[1;31mValueError\u001b[0m: cannot reshape array of size 13 into shape (4,6)"
     ]
    }
   ],
   "source": [
    "arr.reshape(4,6)"
   ]
  },
  {
   "cell_type": "code",
   "execution_count": 17,
   "id": "b77dfa32",
   "metadata": {},
   "outputs": [],
   "source": [
    "arr = np.arange(24).reshape(4, 6)"
   ]
  },
  {
   "cell_type": "code",
   "execution_count": 21,
   "id": "09c7c9b0",
   "metadata": {},
   "outputs": [
    {
     "data": {
      "text/plain": [
       "array([[ 0,  1,  2,  3,  4,  5],\n",
       "       [ 6,  7,  8,  9, 10, 11],\n",
       "       [12, 13, 14, 15, 16, 17],\n",
       "       [18, 19, 20, 21, 22, 23]])"
      ]
     },
     "execution_count": 21,
     "metadata": {},
     "output_type": "execute_result"
    }
   ],
   "source": [
    "arr"
   ]
  },
  {
   "cell_type": "code",
   "execution_count": 54,
   "id": "ea917d41",
   "metadata": {},
   "outputs": [
    {
     "data": {
      "text/plain": [
       "array([ 6,  7,  8,  9, 10, 11])"
      ]
     },
     "execution_count": 54,
     "metadata": {},
     "output_type": "execute_result"
    }
   ],
   "source": [
    "arr[1]"
   ]
  },
  {
   "cell_type": "code",
   "execution_count": 55,
   "id": "9a58dfb4",
   "metadata": {},
   "outputs": [
    {
     "data": {
      "text/plain": [
       "8"
      ]
     },
     "execution_count": 55,
     "metadata": {},
     "output_type": "execute_result"
    }
   ],
   "source": [
    "arr[1][2]"
   ]
  },
  {
   "cell_type": "code",
   "execution_count": 56,
   "id": "8ad446d7",
   "metadata": {},
   "outputs": [
    {
     "data": {
      "text/plain": [
       "8"
      ]
     },
     "execution_count": 56,
     "metadata": {},
     "output_type": "execute_result"
    }
   ],
   "source": [
    "arr[1, 2]"
   ]
  },
  {
   "cell_type": "code",
   "execution_count": 57,
   "id": "fb6ac5a0",
   "metadata": {},
   "outputs": [
    {
     "data": {
      "text/plain": [
       "array([8, 9])"
      ]
     },
     "execution_count": 57,
     "metadata": {},
     "output_type": "execute_result"
    }
   ],
   "source": [
    "arr[1][2:4]"
   ]
  },
  {
   "cell_type": "code",
   "execution_count": 59,
   "id": "954d456e",
   "metadata": {},
   "outputs": [
    {
     "data": {
      "text/plain": [
       "array([ 8,  9, 10])"
      ]
     },
     "execution_count": 59,
     "metadata": {},
     "output_type": "execute_result"
    }
   ],
   "source": [
    "arr[1, 2:5]"
   ]
  },
  {
   "cell_type": "code",
   "execution_count": 61,
   "id": "915d6a32",
   "metadata": {},
   "outputs": [
    {
     "data": {
      "text/plain": [
       "array([ 6,  7,  8,  9, 10, 11])"
      ]
     },
     "execution_count": 61,
     "metadata": {},
     "output_type": "execute_result"
    }
   ],
   "source": [
    "arr[1, :]"
   ]
  },
  {
   "cell_type": "code",
   "execution_count": 63,
   "id": "8d7aeded",
   "metadata": {},
   "outputs": [
    {
     "data": {
      "text/plain": [
       "array([ 2,  8, 14, 20])"
      ]
     },
     "execution_count": 63,
     "metadata": {},
     "output_type": "execute_result"
    }
   ],
   "source": [
    "arr[:, 2]"
   ]
  },
  {
   "cell_type": "code",
   "execution_count": 68,
   "id": "e5f867a2",
   "metadata": {},
   "outputs": [
    {
     "data": {
      "text/plain": [
       "array([ 2,  8, 14])"
      ]
     },
     "execution_count": 68,
     "metadata": {},
     "output_type": "execute_result"
    }
   ],
   "source": [
    "arr[0:3 , 2]"
   ]
  },
  {
   "cell_type": "code",
   "execution_count": 69,
   "id": "1a73349d",
   "metadata": {},
   "outputs": [
    {
     "data": {
      "text/plain": [
       "array([ 2,  8, 14])"
      ]
     },
     "execution_count": 69,
     "metadata": {},
     "output_type": "execute_result"
    }
   ],
   "source": [
    "arr[:3, 2]"
   ]
  },
  {
   "cell_type": "code",
   "execution_count": 72,
   "id": "5ab0a4ec",
   "metadata": {},
   "outputs": [
    {
     "data": {
      "text/plain": [
       "array([[ 2,  3],\n",
       "       [ 8,  9],\n",
       "       [14, 15]])"
      ]
     },
     "execution_count": 72,
     "metadata": {},
     "output_type": "execute_result"
    }
   ],
   "source": [
    "arr[:3, 2:4]"
   ]
  },
  {
   "cell_type": "code",
   "execution_count": 77,
   "id": "4b4d94a8",
   "metadata": {},
   "outputs": [
    {
     "data": {
      "text/plain": [
       "array([ 5, 11, 17, 23])"
      ]
     },
     "execution_count": 77,
     "metadata": {},
     "output_type": "execute_result"
    }
   ],
   "source": [
    "arr[:, -1]"
   ]
  },
  {
   "cell_type": "code",
   "execution_count": 78,
   "id": "24096a67",
   "metadata": {},
   "outputs": [
    {
     "data": {
      "text/plain": [
       "array([[ 0,  1,  2,  3,  4],\n",
       "       [ 6,  7,  8,  9, 10],\n",
       "       [12, 13, 14, 15, 16],\n",
       "       [18, 19, 20, 21, 22]])"
      ]
     },
     "execution_count": 78,
     "metadata": {},
     "output_type": "execute_result"
    }
   ],
   "source": [
    "arr[:, :-1]"
   ]
  },
  {
   "cell_type": "code",
   "execution_count": 79,
   "id": "f344df2a",
   "metadata": {},
   "outputs": [],
   "source": [
    "arr = np.arange(50).reshape(10,5)"
   ]
  },
  {
   "cell_type": "code",
   "execution_count": 80,
   "id": "3c762650",
   "metadata": {},
   "outputs": [
    {
     "data": {
      "text/plain": [
       "array([[ 0,  1,  2,  3,  4],\n",
       "       [ 5,  6,  7,  8,  9],\n",
       "       [10, 11, 12, 13, 14],\n",
       "       [15, 16, 17, 18, 19],\n",
       "       [20, 21, 22, 23, 24],\n",
       "       [25, 26, 27, 28, 29],\n",
       "       [30, 31, 32, 33, 34],\n",
       "       [35, 36, 37, 38, 39],\n",
       "       [40, 41, 42, 43, 44],\n",
       "       [45, 46, 47, 48, 49]])"
      ]
     },
     "execution_count": 80,
     "metadata": {},
     "output_type": "execute_result"
    }
   ],
   "source": [
    "arr"
   ]
  },
  {
   "cell_type": "code",
   "execution_count": 81,
   "id": "e540c5dc",
   "metadata": {},
   "outputs": [],
   "source": [
    "#how much data should be \"test-data' - here 20%\n",
    "split_level = 0.2\n",
    "num_rows = arr.shape[0]\n",
    "split_border = split_level * num_rows"
   ]
  },
  {
   "cell_type": "code",
   "execution_count": 85,
   "id": "6445dced",
   "metadata": {},
   "outputs": [
    {
     "data": {
      "text/plain": [
       "array([[0, 1, 2, 3, 4],\n",
       "       [5, 6, 7, 8, 9]])"
      ]
     },
     "execution_count": 85,
     "metadata": {},
     "output_type": "execute_result"
    }
   ],
   "source": [
    "arr[: round(split_border), :]"
   ]
  },
  {
   "cell_type": "code",
   "execution_count": 86,
   "id": "28dcee2c",
   "metadata": {},
   "outputs": [
    {
     "data": {
      "text/plain": [
       "array([[10, 11, 12, 13, 14],\n",
       "       [15, 16, 17, 18, 19],\n",
       "       [20, 21, 22, 23, 24],\n",
       "       [25, 26, 27, 28, 29],\n",
       "       [30, 31, 32, 33, 34],\n",
       "       [35, 36, 37, 38, 39],\n",
       "       [40, 41, 42, 43, 44],\n",
       "       [45, 46, 47, 48, 49]])"
      ]
     },
     "execution_count": 86,
     "metadata": {},
     "output_type": "execute_result"
    }
   ],
   "source": [
    "arr[round(split_border): , :]"
   ]
  },
  {
   "cell_type": "code",
   "execution_count": 87,
   "id": "c7efd680",
   "metadata": {},
   "outputs": [],
   "source": [
    "np.random.shuffle(arr)"
   ]
  },
  {
   "cell_type": "code",
   "execution_count": 88,
   "id": "4bb46034",
   "metadata": {},
   "outputs": [
    {
     "data": {
      "text/plain": [
       "array([[40, 41, 42, 43, 44],\n",
       "       [25, 26, 27, 28, 29],\n",
       "       [ 5,  6,  7,  8,  9],\n",
       "       [35, 36, 37, 38, 39],\n",
       "       [20, 21, 22, 23, 24],\n",
       "       [45, 46, 47, 48, 49],\n",
       "       [30, 31, 32, 33, 34],\n",
       "       [ 0,  1,  2,  3,  4],\n",
       "       [10, 11, 12, 13, 14],\n",
       "       [15, 16, 17, 18, 19]])"
      ]
     },
     "execution_count": 88,
     "metadata": {},
     "output_type": "execute_result"
    }
   ],
   "source": [
    "arr"
   ]
  },
  {
   "cell_type": "code",
   "execution_count": 90,
   "id": "34c03813",
   "metadata": {},
   "outputs": [
    {
     "data": {
      "text/plain": [
       "array([[40, 41, 42, 43, 44],\n",
       "       [25, 26, 27, 28, 29]])"
      ]
     },
     "execution_count": 90,
     "metadata": {},
     "output_type": "execute_result"
    }
   ],
   "source": [
    "arr[: round(split_border), :]"
   ]
  },
  {
   "cell_type": "code",
   "execution_count": 91,
   "id": "c92cec0e",
   "metadata": {},
   "outputs": [
    {
     "data": {
      "text/plain": [
       "array([[ 5,  6,  7,  8,  9],\n",
       "       [35, 36, 37, 38, 39],\n",
       "       [20, 21, 22, 23, 24],\n",
       "       [45, 46, 47, 48, 49],\n",
       "       [30, 31, 32, 33, 34],\n",
       "       [ 0,  1,  2,  3,  4],\n",
       "       [10, 11, 12, 13, 14],\n",
       "       [15, 16, 17, 18, 19]])"
      ]
     },
     "execution_count": 91,
     "metadata": {},
     "output_type": "execute_result"
    }
   ],
   "source": [
    "arr[round(split_border): , :]"
   ]
  },
  {
   "cell_type": "code",
   "execution_count": 92,
   "id": "c8dc7244",
   "metadata": {},
   "outputs": [],
   "source": [
    "data = np.arange(500).reshape(100,5)"
   ]
  },
  {
   "cell_type": "code",
   "execution_count": 93,
   "id": "532e7fe0",
   "metadata": {},
   "outputs": [],
   "source": [
    "np.random.shuffle(data)"
   ]
  },
  {
   "cell_type": "code",
   "execution_count": 94,
   "id": "20f3cc9d",
   "metadata": {},
   "outputs": [],
   "source": [
    "split_level = 0.2\n",
    "num_rows = data.shape[0]\n",
    "split_border = split_level * num_rows "
   ]
  },
  {
   "cell_type": "code",
   "execution_count": 95,
   "id": "f066bdc5",
   "metadata": {},
   "outputs": [],
   "source": [
    "X_test = data[:round(split_border), :-1]"
   ]
  },
  {
   "cell_type": "code",
   "execution_count": 96,
   "id": "605df14e",
   "metadata": {},
   "outputs": [],
   "source": [
    "X_train = data[round(split_border):, :-1]"
   ]
  },
  {
   "cell_type": "code",
   "execution_count": 97,
   "id": "307d5f82",
   "metadata": {},
   "outputs": [],
   "source": [
    "Y_test = data[:round(split_border), :-1]"
   ]
  },
  {
   "cell_type": "code",
   "execution_count": 98,
   "id": "cf45e409",
   "metadata": {},
   "outputs": [],
   "source": [
    "Y_train = data[round(split_border):, :-1]"
   ]
  },
  {
   "cell_type": "code",
   "execution_count": 99,
   "id": "22e23bee",
   "metadata": {},
   "outputs": [],
   "source": [
    "from sklearn.model_selection import train_test_split"
   ]
  },
  {
   "cell_type": "code",
   "execution_count": 103,
   "id": "4befec79",
   "metadata": {},
   "outputs": [],
   "source": [
    "X_train, X_test, Y_train, Y_test = train_test_split(data[:,:-1], data[:, :-1], test_size=0.2, shuffle=True)"
   ]
  },
  {
   "cell_type": "code",
   "execution_count": 106,
   "id": "a9bc04e1",
   "metadata": {},
   "outputs": [
    {
     "data": {
      "text/plain": [
       "(80, 4)"
      ]
     },
     "execution_count": 106,
     "metadata": {},
     "output_type": "execute_result"
    }
   ],
   "source": [
    "X_train.shape"
   ]
  },
  {
   "cell_type": "code",
   "execution_count": 108,
   "id": "48397353",
   "metadata": {},
   "outputs": [
    {
     "data": {
      "text/plain": [
       "(20, 4)"
      ]
     },
     "execution_count": 108,
     "metadata": {},
     "output_type": "execute_result"
    }
   ],
   "source": [
    "X_test.shape"
   ]
  },
  {
   "cell_type": "code",
   "execution_count": 109,
   "id": "f9c745e3",
   "metadata": {},
   "outputs": [
    {
     "data": {
      "text/plain": [
       "(80, 4)"
      ]
     },
     "execution_count": 109,
     "metadata": {},
     "output_type": "execute_result"
    }
   ],
   "source": [
    "Y_train.shape"
   ]
  },
  {
   "cell_type": "code",
   "execution_count": 110,
   "id": "516dddda",
   "metadata": {},
   "outputs": [
    {
     "data": {
      "text/plain": [
       "(20, 4)"
      ]
     },
     "execution_count": 110,
     "metadata": {},
     "output_type": "execute_result"
    }
   ],
   "source": [
    "Y_test.shape"
   ]
  },
  {
   "cell_type": "code",
   "execution_count": null,
   "id": "8e1dd3b2",
   "metadata": {},
   "outputs": [],
   "source": []
  }
 ],
 "metadata": {
  "kernelspec": {
   "display_name": "Python 3 (ipykernel)",
   "language": "python",
   "name": "python3"
  },
  "language_info": {
   "codemirror_mode": {
    "name": "ipython",
    "version": 3
   },
   "file_extension": ".py",
   "mimetype": "text/x-python",
   "name": "python",
   "nbconvert_exporter": "python",
   "pygments_lexer": "ipython3",
   "version": "3.9.13"
  }
 },
 "nbformat": 4,
 "nbformat_minor": 5
}
