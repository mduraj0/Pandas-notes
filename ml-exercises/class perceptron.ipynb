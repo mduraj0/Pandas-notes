{
 "cells": [
  {
   "cell_type": "code",
   "execution_count": 1,
   "id": "95e71599",
   "metadata": {},
   "outputs": [],
   "source": [
    "import numpy as np\n",
    "import matplotlib.pyplot as plt"
   ]
  },
  {
   "cell_type": "code",
   "execution_count": 2,
   "id": "e0a7ac0a",
   "metadata": {},
   "outputs": [],
   "source": [
    "class Perceptron:\n",
    "    \n",
    "    def __init__(self, eta=0.1, epochs=50):\n",
    "        self.eta = eta\n",
    "        self.epochs = epochs\n",
    "        \n",
    "        \n",
    "        \n",
    "    def predict(self, x):\n",
    "        \n",
    "        total_simulation = np.dot(x, self.w)\n",
    "        y_pred = 1 if total_simulation > 0 else -1\n",
    "        return y_pred\n",
    "    \n",
    "    \n",
    "    def fit(self, X, y):\n",
    "        \n",
    "        ones = np.ones((X.shape[0], 1))\n",
    "        X_1 = np.append(X.copy(), ones, axis=1)\n",
    "        \n",
    "        self.w = np.random.rand(X_1.shape[1])\n",
    "        \n",
    "        for _ in range(self.epochs):\n",
    "            \n",
    "            for x, y_target in zip(X_1, y):\n",
    "                y_pred = self.predict(x)\n",
    "                delta_w = self.eta * (y_target - y_pred) * x\n",
    "                self.w += delta_w"
   ]
  },
  {
   "cell_type": "code",
   "execution_count": 46,
   "id": "c9fb2d22",
   "metadata": {},
   "outputs": [],
   "source": [
    "perceptron = Perceptron(eta=0.1, epochs=50)"
   ]
  },
  {
   "cell_type": "code",
   "execution_count": 47,
   "id": "d88a86e8",
   "metadata": {},
   "outputs": [],
   "source": [
    "X = np.array([\n",
    "    [2, 4,  20],  # 2*2 - 4*4 + 20 =   8 > 0\n",
    "    [4, 3, -10],  # 2*4 - 4*3 - 10 = -14 < 0\n",
    "    [5, 6,  13],  # 2*5 - 4*6 + 13 =  -1 < 0\n",
    "    [5, 4,   8],  # 2*5 - 4*4 + 8 =    2 > 0\n",
    "    [3, 4,   5],  # 2*3 - 4*4 + 5 =   -5 < 0 \n",
    "])"
   ]
  },
  {
   "cell_type": "code",
   "execution_count": 48,
   "id": "13ec0f88",
   "metadata": {},
   "outputs": [],
   "source": [
    "y = np.array([1, -1, -1, 1, -1])"
   ]
  },
  {
   "cell_type": "code",
   "execution_count": 49,
   "id": "16ad5150",
   "metadata": {},
   "outputs": [],
   "source": [
    "perceptron.fit(X, y)"
   ]
  },
  {
   "cell_type": "code",
   "execution_count": 69,
   "id": "1ddf81a5",
   "metadata": {},
   "outputs": [
    {
     "data": {
      "text/plain": [
       "array([ 1.43919674, -4.88218679,  1.55230542,  0.32183503])"
      ]
     },
     "execution_count": 69,
     "metadata": {},
     "output_type": "execute_result"
    }
   ],
   "source": [
    "perceptron.w"
   ]
  },
  {
   "cell_type": "code",
   "execution_count": null,
   "id": "5f7ad6c3",
   "metadata": {},
   "outputs": [],
   "source": []
  }
 ],
 "metadata": {
  "kernelspec": {
   "display_name": "Python 3 (ipykernel)",
   "language": "python",
   "name": "python3"
  },
  "language_info": {
   "codemirror_mode": {
    "name": "ipython",
    "version": 3
   },
   "file_extension": ".py",
   "mimetype": "text/x-python",
   "name": "python",
   "nbconvert_exporter": "python",
   "pygments_lexer": "ipython3",
   "version": "3.9.13"
  }
 },
 "nbformat": 4,
 "nbformat_minor": 5
}
