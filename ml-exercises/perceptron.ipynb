{
 "cells": [
  {
   "cell_type": "code",
   "execution_count": 1,
   "id": "45f67e69",
   "metadata": {},
   "outputs": [],
   "source": [
    "import numpy as np"
   ]
  },
  {
   "cell_type": "code",
   "execution_count": 2,
   "id": "c33f5f0a",
   "metadata": {},
   "outputs": [],
   "source": [
    "X = np.arange(-25, 25).reshape(10,5)"
   ]
  },
  {
   "cell_type": "code",
   "execution_count": 3,
   "id": "6df9a1f0",
   "metadata": {},
   "outputs": [
    {
     "data": {
      "text/plain": [
       "array([[-25, -24, -23, -22, -21],\n",
       "       [-20, -19, -18, -17, -16],\n",
       "       [-15, -14, -13, -12, -11],\n",
       "       [-10,  -9,  -8,  -7,  -6],\n",
       "       [ -5,  -4,  -3,  -2,  -1],\n",
       "       [  0,   1,   2,   3,   4],\n",
       "       [  5,   6,   7,   8,   9],\n",
       "       [ 10,  11,  12,  13,  14],\n",
       "       [ 15,  16,  17,  18,  19],\n",
       "       [ 20,  21,  22,  23,  24]])"
      ]
     },
     "execution_count": 3,
     "metadata": {},
     "output_type": "execute_result"
    }
   ],
   "source": [
    "X"
   ]
  },
  {
   "cell_type": "code",
   "execution_count": 12,
   "id": "99a6d347",
   "metadata": {},
   "outputs": [],
   "source": [
    "ones = np.ones((X.shape[0],1))"
   ]
  },
  {
   "cell_type": "code",
   "execution_count": 13,
   "id": "ec5ba5d6",
   "metadata": {},
   "outputs": [
    {
     "data": {
      "text/plain": [
       "array([[1.],\n",
       "       [1.],\n",
       "       [1.],\n",
       "       [1.],\n",
       "       [1.],\n",
       "       [1.],\n",
       "       [1.],\n",
       "       [1.],\n",
       "       [1.],\n",
       "       [1.]])"
      ]
     },
     "execution_count": 13,
     "metadata": {},
     "output_type": "execute_result"
    }
   ],
   "source": [
    "ones"
   ]
  },
  {
   "cell_type": "code",
   "execution_count": 16,
   "id": "f1120bcc",
   "metadata": {},
   "outputs": [],
   "source": [
    "X_1 = np.append(X.copy(), ones, axis=1)"
   ]
  },
  {
   "cell_type": "code",
   "execution_count": 17,
   "id": "06854fbf",
   "metadata": {},
   "outputs": [
    {
     "data": {
      "text/plain": [
       "array([[-25., -24., -23., -22., -21.,   1.],\n",
       "       [-20., -19., -18., -17., -16.,   1.],\n",
       "       [-15., -14., -13., -12., -11.,   1.],\n",
       "       [-10.,  -9.,  -8.,  -7.,  -6.,   1.],\n",
       "       [ -5.,  -4.,  -3.,  -2.,  -1.,   1.],\n",
       "       [  0.,   1.,   2.,   3.,   4.,   1.],\n",
       "       [  5.,   6.,   7.,   8.,   9.,   1.],\n",
       "       [ 10.,  11.,  12.,  13.,  14.,   1.],\n",
       "       [ 15.,  16.,  17.,  18.,  19.,   1.],\n",
       "       [ 20.,  21.,  22.,  23.,  24.,   1.]])"
      ]
     },
     "execution_count": 17,
     "metadata": {},
     "output_type": "execute_result"
    }
   ],
   "source": [
    "X_1"
   ]
  },
  {
   "cell_type": "code",
   "execution_count": 20,
   "id": "e1634a8c",
   "metadata": {},
   "outputs": [],
   "source": [
    "w = np.random.rand(X_1.shape[1])"
   ]
  },
  {
   "cell_type": "code",
   "execution_count": 21,
   "id": "fa86293a",
   "metadata": {},
   "outputs": [
    {
     "data": {
      "text/plain": [
       "array([0.15190006, 0.94163075, 0.83215925, 0.73667034, 0.16042505,\n",
       "       0.34537508])"
      ]
     },
     "execution_count": 21,
     "metadata": {},
     "output_type": "execute_result"
    }
   ],
   "source": [
    "w"
   ]
  },
  {
   "cell_type": "code",
   "execution_count": 22,
   "id": "cf458908",
   "metadata": {},
   "outputs": [],
   "source": [
    "def predict(x, w):\n",
    "    total_stimulation = np.dot(x, w)\n",
    "    y_pred = 1 if total_stimulation > 0 else -1 \n",
    "    return y_pred"
   ]
  },
  {
   "cell_type": "code",
   "execution_count": 23,
   "id": "6aadfcff",
   "metadata": {},
   "outputs": [
    {
     "data": {
      "text/plain": [
       "-1"
      ]
     },
     "execution_count": 23,
     "metadata": {},
     "output_type": "execute_result"
    }
   ],
   "source": [
    "predict(w,X_1[0,])"
   ]
  },
  {
   "cell_type": "code",
   "execution_count": 29,
   "id": "f3c79d3e",
   "metadata": {},
   "outputs": [],
   "source": [
    "for x in X_1:\n",
    "    y_pred = predict(x, w)"
   ]
  },
  {
   "cell_type": "code",
   "execution_count": 30,
   "id": "a7b79b11",
   "metadata": {},
   "outputs": [],
   "source": [
    "y = np.array([1, -1, -1, 1, -1, 1, -1, -1, 1, -1])"
   ]
  },
  {
   "cell_type": "code",
   "execution_count": 35,
   "id": "46bdf4dc",
   "metadata": {},
   "outputs": [],
   "source": [
    "eta = 0.01"
   ]
  },
  {
   "cell_type": "code",
   "execution_count": 36,
   "id": "3b7abf36",
   "metadata": {},
   "outputs": [
    {
     "name": "stdout",
     "output_type": "stream",
     "text": [
      "[0.15171785 0.94050125 0.83116105 0.73578669 0.16023262 0.3449608 ]\n",
      "[0.15171785 0.94050125 0.83116105 0.73578669 0.16023262 0.3449608 ]\n",
      "[0.15171785 0.94050125 0.83116105 0.73578669 0.16023262 0.3449608 ]\n",
      "[0.15475221 0.95931127 0.84778428 0.75050243 0.16343727 0.35186001]\n",
      "[0.15475221 0.95931127 0.84778428 0.75050243 0.16343727 0.35186001]\n",
      "[0.15475221 0.95931127 0.84778428 0.75050243 0.16343727 0.35186001]\n",
      "[0.15165717 0.94012505 0.83082859 0.73549238 0.16016852 0.34482281]\n",
      "[0.14862402 0.92132255 0.81421202 0.72078253 0.15696515 0.33792636]\n",
      "[0.14862402 0.92132255 0.81421202 0.72078253 0.15696515 0.33792636]\n",
      "[0.14565154 0.9028961  0.79792778 0.70636688 0.15382585 0.33116783]\n"
     ]
    }
   ],
   "source": [
    "for x, y_target in zip(X_1, y):\n",
    "    y_pred = predict(x, w)\n",
    "    delta_w = eta * (y_target - y_pred) * w\n",
    "    w+= delta_w\n",
    "    print(w)"
   ]
  },
  {
   "cell_type": "code",
   "execution_count": 37,
   "id": "478aa167",
   "metadata": {},
   "outputs": [],
   "source": [
    "epochs = 10"
   ]
  },
  {
   "cell_type": "code",
   "execution_count": 43,
   "id": "2ec753a3",
   "metadata": {},
   "outputs": [],
   "source": [
    "for _ in range(epochs):\n",
    "    for x, y_target in zip(X_1, y):\n",
    "        y_pred = predict(x, w)\n",
    "        delta_w = eta * (y_target - y_pred) * x\n",
    "        w += delta_w"
   ]
  }
 ],
 "metadata": {
  "kernelspec": {
   "display_name": "Python 3 (ipykernel)",
   "language": "python",
   "name": "python3"
  },
  "language_info": {
   "codemirror_mode": {
    "name": "ipython",
    "version": 3
   },
   "file_extension": ".py",
   "mimetype": "text/x-python",
   "name": "python",
   "nbconvert_exporter": "python",
   "pygments_lexer": "ipython3",
   "version": "3.9.13"
  }
 },
 "nbformat": 4,
 "nbformat_minor": 5
}
