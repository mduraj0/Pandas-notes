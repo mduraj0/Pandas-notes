{
 "cells": [
  {
   "cell_type": "code",
   "execution_count": 1,
   "id": "e28c6cfe",
   "metadata": {},
   "outputs": [],
   "source": [
    "import numpy as np\n",
    "import matplotlib.pyplot as plt\n",
    "import pandas as pd\n",
    "from sklearn.model_selection import train_test_split\n",
    "%matplotlib inline\n",
    " "
   ]
  },
  {
   "cell_type": "code",
   "execution_count": 2,
   "id": "aac24ce9",
   "metadata": {},
   "outputs": [],
   "source": [
    "class Perceptron:\n",
    "    \n",
    "    def __init__(self, eta=0.10, epochs=50, is_verbose = False):\n",
    "        \n",
    "        self.eta = eta\n",
    "        self.epochs = epochs\n",
    "        self.is_verbose = is_verbose\n",
    "        self.list_of_errors = []\n",
    "        \n",
    "    \n",
    "    def predict(self, x):\n",
    "        \n",
    "        ones = np.ones((x.shape[0],1))\n",
    "        x_1 = np.append(x.copy(), ones, axis=1)\n",
    "        #activation = self.get_activation(x_1)\n",
    "        #y_pred = np.where(activation >0, 1, -1)\n",
    "        #return y_pred\n",
    "        return np.where(self.get_activation(x_1) > 0, 1, -1)\n",
    "        \n",
    "    \n",
    "    def get_activation(self, x):\n",
    "        \n",
    "        activation = np.dot(x, self.w)\n",
    "        return activation\n",
    "     \n",
    "    \n",
    "    def fit(self, X, y):\n",
    "        \n",
    "        self.list_of_errors = []\n",
    "        \n",
    "        ones = np.ones((X.shape[0], 1))\n",
    "        X_1 = np.append(X.copy(), ones, axis=1)\n",
    " \n",
    "        self.w = np.random.rand(X_1.shape[1])\n",
    "        \n",
    "        for e in range(self.epochs):\n",
    " \n",
    "            error = 0\n",
    "            \n",
    "            activation = self.get_activation(X_1)\n",
    "            delta_w = self.eta * np.dot((y - activation), X_1)\n",
    "            self.w += delta_w\n",
    "                \n",
    "            error = np.square(y - activation).sum()/2.0\n",
    "                \n",
    "            self.list_of_errors.append(error)\n",
    "            \n",
    "            if(self.is_verbose):\n",
    "                print(\"Epoch: {}, weights: {}, error {}\".format(\n",
    "                        e, self.w, error))"
   ]
  },
  {
   "cell_type": "code",
   "execution_count": 3,
   "id": "db01a2c9",
   "metadata": {},
   "outputs": [],
   "source": [
    "diag = pd.read_csv('../ml_data/breast_cancer.csv')"
   ]
  },
  {
   "cell_type": "code",
   "execution_count": 4,
   "id": "ce7f59fe",
   "metadata": {},
   "outputs": [],
   "source": [
    "X = diag[['area_mean', 'area_se', 'texture_mean', 'concavity_worst', 'concavity_mean']]"
   ]
  },
  {
   "cell_type": "code",
   "execution_count": 5,
   "id": "99a7cfb9",
   "metadata": {},
   "outputs": [
    {
     "data": {
      "text/html": [
       "<div>\n",
       "<style scoped>\n",
       "    .dataframe tbody tr th:only-of-type {\n",
       "        vertical-align: middle;\n",
       "    }\n",
       "\n",
       "    .dataframe tbody tr th {\n",
       "        vertical-align: top;\n",
       "    }\n",
       "\n",
       "    .dataframe thead th {\n",
       "        text-align: right;\n",
       "    }\n",
       "</style>\n",
       "<table border=\"1\" class=\"dataframe\">\n",
       "  <thead>\n",
       "    <tr style=\"text-align: right;\">\n",
       "      <th></th>\n",
       "      <th>area_mean</th>\n",
       "      <th>area_se</th>\n",
       "      <th>texture_mean</th>\n",
       "      <th>concavity_worst</th>\n",
       "      <th>concavity_mean</th>\n",
       "    </tr>\n",
       "  </thead>\n",
       "  <tbody>\n",
       "    <tr>\n",
       "      <th>0</th>\n",
       "      <td>1001.0</td>\n",
       "      <td>153.40</td>\n",
       "      <td>10.38</td>\n",
       "      <td>0.7119</td>\n",
       "      <td>0.3001</td>\n",
       "    </tr>\n",
       "    <tr>\n",
       "      <th>1</th>\n",
       "      <td>1326.0</td>\n",
       "      <td>74.08</td>\n",
       "      <td>17.77</td>\n",
       "      <td>0.2416</td>\n",
       "      <td>0.0869</td>\n",
       "    </tr>\n",
       "    <tr>\n",
       "      <th>2</th>\n",
       "      <td>1203.0</td>\n",
       "      <td>94.03</td>\n",
       "      <td>21.25</td>\n",
       "      <td>0.4504</td>\n",
       "      <td>0.1974</td>\n",
       "    </tr>\n",
       "    <tr>\n",
       "      <th>3</th>\n",
       "      <td>386.1</td>\n",
       "      <td>27.23</td>\n",
       "      <td>20.38</td>\n",
       "      <td>0.6869</td>\n",
       "      <td>0.2414</td>\n",
       "    </tr>\n",
       "    <tr>\n",
       "      <th>4</th>\n",
       "      <td>1297.0</td>\n",
       "      <td>94.44</td>\n",
       "      <td>14.34</td>\n",
       "      <td>0.4000</td>\n",
       "      <td>0.1980</td>\n",
       "    </tr>\n",
       "  </tbody>\n",
       "</table>\n",
       "</div>"
      ],
      "text/plain": [
       "   area_mean  area_se  texture_mean  concavity_worst  concavity_mean\n",
       "0     1001.0   153.40         10.38           0.7119          0.3001\n",
       "1     1326.0    74.08         17.77           0.2416          0.0869\n",
       "2     1203.0    94.03         21.25           0.4504          0.1974\n",
       "3      386.1    27.23         20.38           0.6869          0.2414\n",
       "4     1297.0    94.44         14.34           0.4000          0.1980"
      ]
     },
     "execution_count": 5,
     "metadata": {},
     "output_type": "execute_result"
    }
   ],
   "source": [
    "X.head()"
   ]
  },
  {
   "cell_type": "code",
   "execution_count": 6,
   "id": "2a8654f3",
   "metadata": {},
   "outputs": [],
   "source": [
    "y = diag['diagnosis']"
   ]
  },
  {
   "cell_type": "code",
   "execution_count": 7,
   "id": "c1af419b",
   "metadata": {},
   "outputs": [
    {
     "data": {
      "text/plain": [
       "0    M\n",
       "1    M\n",
       "2    M\n",
       "3    M\n",
       "4    M\n",
       "Name: diagnosis, dtype: object"
      ]
     },
     "execution_count": 7,
     "metadata": {},
     "output_type": "execute_result"
    }
   ],
   "source": [
    "y.head()"
   ]
  },
  {
   "cell_type": "code",
   "execution_count": 8,
   "id": "c3326cac",
   "metadata": {},
   "outputs": [],
   "source": [
    "y = y.apply(lambda x: 1 if x == 'M' else -1 )"
   ]
  },
  {
   "cell_type": "code",
   "execution_count": 9,
   "id": "3821e8dc",
   "metadata": {},
   "outputs": [
    {
     "data": {
      "text/plain": [
       "0    1\n",
       "1    1\n",
       "2    1\n",
       "3    1\n",
       "4    1\n",
       "Name: diagnosis, dtype: int64"
      ]
     },
     "execution_count": 9,
     "metadata": {},
     "output_type": "execute_result"
    }
   ],
   "source": [
    "y.head()"
   ]
  },
  {
   "cell_type": "code",
   "execution_count": 10,
   "id": "c3e77f8e",
   "metadata": {},
   "outputs": [],
   "source": [
    "p = Perceptron(eta = 0.000000001, epochs=100, is_verbose=True)"
   ]
  },
  {
   "cell_type": "code",
   "execution_count": 11,
   "id": "f4f17669",
   "metadata": {},
   "outputs": [
    {
     "name": "stdout",
     "output_type": "stream",
     "text": [
      "Epoch: 0, weights: [0.20412681 0.76297441 0.26331845 0.23339444 0.72882394 0.37268418], error 23751393.650340065\n",
      "Epoch: 1, weights: [0.12081248 0.75668871 0.26136912 0.23336214 0.72881215 0.37258729], error 11177265.36169982\n",
      "Epoch: 2, weights: [0.06384495 0.75227555 0.26004504 0.23334013 0.72880404 0.3725216 ], error 5296696.128556773\n",
      "Epoch: 3, weights: [0.02489497 0.74914302 0.25914854 0.23332516 0.72879846 0.37247726], error 2546480.193878315\n",
      "Epoch: 4, weights: [-0.00173349  0.74688632  0.25854445  0.233315    0.7287946   0.37244752], error 1260225.6518088183\n",
      "Epoch: 5, weights: [-0.01993575  0.74522862  0.2581403   0.23330813  0.72879193  0.37242775], error 658616.859807273\n",
      "Epoch: 6, weights: [-0.03237566  0.74398062  0.25787289  0.23330351  0.72879006  0.37241481], error 377194.0118440011\n",
      "Epoch: 7, weights: [-0.04087492  0.74301285  0.25769898  0.23330043  0.72878874  0.37240654], error 245511.47204023416\n",
      "Epoch: 8, weights: [-0.04667934  0.74223679  0.257589    0.2332984   0.72878781  0.37240146], error 183857.52918825156\n",
      "Epoch: 9, weights: [-0.05064085  0.74159188  0.25752273  0.2332971   0.72878713  0.37239856], error 154953.6875501934\n",
      "Epoch: 10, weights: [-0.05334208  0.74103672  0.25748636  0.23329628  0.72878662  0.37239716], error 141366.04404352023\n",
      "Epoch: 11, weights: [-0.05518145  0.740543    0.25747041  0.2332958   0.72878624  0.37239677], error 134941.3464460345\n",
      "Epoch: 12, weights: [-0.05643144  0.74009136  0.25746843  0.23329555  0.72878594  0.37239708], error 131866.591886503\n",
      "Epoch: 13, weights: [-0.05727837  0.73966855  0.257476    0.23329546  0.72878569  0.37239786], error 130358.56664452037\n",
      "Epoch: 14, weights: [-0.05784967  0.73926551  0.25749008  0.23329548  0.72878549  0.37239898], error 129583.32135383373\n",
      "Epoch: 15, weights: [-0.05823249  0.73887606  0.25750861  0.23329557  0.72878531  0.37240031], error 129150.84577052895\n",
      "Epoch: 16, weights: [-0.0584864   0.73849596  0.25753019  0.2332957   0.72878515  0.37240179], error 128878.74509892921\n",
      "Epoch: 17, weights: [-0.05865218  0.73812231  0.25755383  0.23329588  0.728785    0.37240338], error 128681.7193300003\n",
      "Epoch: 18, weights: [-0.05875768  0.73775313  0.25757888  0.23329607  0.72878486  0.37240504], error 128519.87643220666\n",
      "Epoch: 19, weights: [-0.05882197  0.73738707  0.25760488  0.23329629  0.72878473  0.37240674], error 128374.56016324466\n",
      "Epoch: 20, weights: [-0.05885808  0.7370232   0.25763153  0.23329651  0.7287846   0.37240848], error 128237.04554776134\n",
      "Epoch: 21, weights: [-0.05887491  0.73666088  0.25765862  0.23329674  0.72878447  0.37241024], error 128103.2521311729\n",
      "Epoch: 22, weights: [-0.05887858  0.73629969  0.257686    0.23329698  0.72878435  0.37241201], error 127971.27154567029\n",
      "Epoch: 23, weights: [-0.05887324  0.73593933  0.25771357  0.23329722  0.72878422  0.3724138 ], error 127840.21123570722\n",
      "Epoch: 24, weights: [-0.05886175  0.7355796   0.25774126  0.23329746  0.7287841   0.37241558], error 127709.65370716531\n",
      "Epoch: 25, weights: [-0.05884605  0.73522035  0.25776903  0.2332977   0.72878398  0.37241738], error 127579.40363631313\n",
      "Epoch: 26, weights: [-0.05882749  0.73486149  0.25779685  0.23329795  0.72878386  0.37241917], error 127449.36960114184\n",
      "Epoch: 27, weights: [-0.05880696  0.73450296  0.25782469  0.23329819  0.72878373  0.37242097], error 127319.50877107479\n",
      "Epoch: 28, weights: [-0.0587851   0.73414471  0.25785254  0.23329844  0.72878361  0.37242276], error 127189.80104019899\n",
      "Epoch: 29, weights: [-0.05876233  0.73378671  0.25788039  0.23329868  0.72878349  0.37242456], error 127060.23693024358\n",
      "Epoch: 30, weights: [-0.05873894  0.73342895  0.25790823  0.23329893  0.72878337  0.37242635], error 126930.81193320882\n",
      "Epoch: 31, weights: [-0.05871513  0.7330714   0.25793606  0.23329917  0.72878325  0.37242815], error 126801.52386560294\n",
      "Epoch: 32, weights: [-0.05869104  0.73271405  0.25796388  0.23329942  0.72878313  0.37242994], error 126672.37163110735\n",
      "Epoch: 33, weights: [-0.05866676  0.73235691  0.25799168  0.23329967  0.72878301  0.37243173], error 126543.3546419164\n",
      "Epoch: 34, weights: [-0.05864235  0.73199997  0.25801946  0.23329991  0.72878289  0.37243352], error 126414.47254811779\n",
      "Epoch: 35, weights: [-0.05861787  0.73164321  0.25804722  0.23330016  0.72878277  0.37243531], error 126285.72511113212\n",
      "Epoch: 36, weights: [-0.05859333  0.73128665  0.25807495  0.2333004   0.72878265  0.3724371 ], error 126157.11214452528\n",
      "Epoch: 37, weights: [-0.05856876  0.73093028  0.25810267  0.23330065  0.72878253  0.37243889], error 126028.63348632779\n",
      "Epoch: 38, weights: [-0.05854417  0.73057409  0.25813037  0.23330089  0.72878241  0.37244067], error 125900.28898609008\n",
      "Epoch: 39, weights: [-0.05851957  0.73021809  0.25815804  0.23330114  0.72878229  0.37244246], error 125772.07849882773\n",
      "Epoch: 40, weights: [-0.05849498  0.72986227  0.25818569  0.23330138  0.72878217  0.37244424], error 125644.00188219064\n",
      "Epoch: 41, weights: [-0.05847038  0.72950665  0.25821332  0.23330162  0.72878205  0.37244602], error 125516.05899513853\n",
      "Epoch: 42, weights: [-0.05844579  0.7291512   0.25824093  0.23330187  0.72878193  0.3724478 ], error 125388.24969732146\n",
      "Epoch: 43, weights: [-0.05842121  0.72879595  0.25826852  0.23330211  0.72878181  0.37244958], error 125260.5738487904\n",
      "Epoch: 44, weights: [-0.05839664  0.72844088  0.25829608  0.23330236  0.72878169  0.37245136], error 125133.03130986137\n",
      "Epoch: 45, weights: [-0.05837208  0.72808599  0.25832362  0.2333026   0.72878157  0.37245313], error 125005.62194105198\n",
      "Epoch: 46, weights: [-0.05834754  0.72773129  0.25835114  0.23330284  0.72878145  0.37245491], error 124878.34560305189\n",
      "Epoch: 47, weights: [-0.058323    0.72737677  0.25837864  0.23330309  0.72878133  0.37245668], error 124751.20215670843\n",
      "Epoch: 48, weights: [-0.05829847  0.72702244  0.25840612  0.23330333  0.72878121  0.37245846], error 124624.19146302032\n",
      "Epoch: 49, weights: [-0.05827396  0.72666829  0.25843357  0.23330357  0.72878109  0.37246023], error 124497.31338313431\n",
      "Epoch: 50, weights: [-0.05824946  0.72631433  0.258461    0.23330382  0.72878097  0.372462  ], error 124370.56777834365\n",
      "Epoch: 51, weights: [-0.05822497  0.72596055  0.25848841  0.23330406  0.72878085  0.37246377], error 124243.9545100872\n",
      "Epoch: 52, weights: [-0.05820049  0.72560695  0.2585158   0.2333043   0.72878073  0.37246553], error 124117.47343994913\n",
      "Epoch: 53, weights: [-0.05817603  0.72525354  0.25854317  0.23330455  0.72878062  0.3724673 ], error 123991.12442965845\n",
      "Epoch: 54, weights: [-0.05815158  0.72490031  0.25857051  0.23330479  0.7287805   0.37246906], error 123864.90734108893\n",
      "Epoch: 55, weights: [-0.05812714  0.72454727  0.25859783  0.23330503  0.72878038  0.37247083], error 123738.82203625876\n",
      "Epoch: 56, weights: [-0.05810271  0.72419441  0.25862513  0.23330527  0.72878026  0.37247259], error 123612.86837733065\n",
      "Epoch: 57, weights: [-0.0580783   0.72384173  0.25865241  0.23330552  0.72878014  0.37247435], error 123487.0462266114\n",
      "Epoch: 58, weights: [-0.0580539   0.72348924  0.25867966  0.23330576  0.72878002  0.37247611], error 123361.3554465518\n",
      "Epoch: 59, weights: [-0.05802951  0.72313693  0.2587069   0.233306    0.7287799   0.37247787], error 123235.79589974665\n",
      "Epoch: 60, weights: [-0.05800514  0.72278481  0.25873411  0.23330624  0.72877978  0.37247963], error 123110.36744893432\n",
      "Epoch: 61, weights: [-0.05798077  0.72243286  0.2587613   0.23330648  0.72877966  0.37248138], error 122985.06995699702\n",
      "Epoch: 62, weights: [-0.05795642  0.72208111  0.25878847  0.23330672  0.72877955  0.37248314], error 122859.90328696009\n",
      "Epoch: 63, weights: [-0.05793208  0.72172953  0.25881561  0.23330696  0.72877943  0.37248489], error 122734.86730199243\n",
      "Epoch: 64, weights: [-0.05790776  0.72137814  0.25884274  0.23330721  0.72877931  0.37248664], error 122609.96186540586\n",
      "Epoch: 65, weights: [-0.05788344  0.72102693  0.25886984  0.23330745  0.72877919  0.37248839], error 122485.18684065533\n",
      "Epoch: 66, weights: [-0.05785914  0.7206759   0.25889692  0.23330769  0.72877907  0.37249014], error 122360.54209133849\n",
      "Epoch: 67, weights: [-0.05783485  0.72032506  0.25892398  0.23330793  0.72877895  0.37249189], error 122236.02748119585\n",
      "Epoch: 68, weights: [-0.05781058  0.71997439  0.25895101  0.23330817  0.72877884  0.37249363], error 122111.64287411034\n",
      "Epoch: 69, weights: [-0.05778631  0.71962391  0.25897803  0.23330841  0.72877872  0.37249538], error 121987.38813410734\n",
      "Epoch: 70, weights: [-0.05776206  0.71927362  0.25900502  0.23330865  0.7287786   0.37249712], error 121863.26312535434\n",
      "Epoch: 71, weights: [-0.05773782  0.7189235   0.25903199  0.23330889  0.72877848  0.37249887], error 121739.26771216105\n",
      "Epoch: 72, weights: [-0.05771359  0.71857357  0.25905894  0.23330913  0.72877836  0.37250061], error 121615.40175897913\n",
      "Epoch: 73, weights: [-0.05768938  0.71822382  0.25908587  0.23330937  0.72877825  0.37250235], error 121491.66513040196\n",
      "Epoch: 74, weights: [-0.05766518  0.71787425  0.25911277  0.23330961  0.72877813  0.37250409], error 121368.05769116458\n",
      "Epoch: 75, weights: [-0.05764099  0.71752487  0.25913966  0.23330985  0.72877801  0.37250582], error 121244.57930614348\n",
      "Epoch: 76, weights: [-0.05761681  0.71717566  0.25916652  0.23331009  0.72877789  0.37250756], error 121121.22984035668\n",
      "Epoch: 77, weights: [-0.05759265  0.71682664  0.25919336  0.23331033  0.72877778  0.37250929], error 120998.00915896319\n",
      "Epoch: 78, weights: [-0.0575685   0.7164778   0.25922018  0.23331056  0.72877766  0.37251103], error 120874.91712726321\n",
      "Epoch: 79, weights: [-0.05754436  0.71612914  0.25924697  0.2333108   0.72877754  0.37251276], error 120751.95361069776\n",
      "Epoch: 80, weights: [-0.05752023  0.71578066  0.25927375  0.23331104  0.72877742  0.37251449], error 120629.11847484868\n",
      "Epoch: 81, weights: [-0.05749611  0.71543236  0.2593005   0.23331128  0.72877731  0.37251622], error 120506.41158543839\n",
      "Epoch: 82, weights: [-0.05747201  0.71508425  0.25932723  0.23331152  0.72877719  0.37251795], error 120383.83280832978\n",
      "Epoch: 83, weights: [-0.05744792  0.71473631  0.25935394  0.23331176  0.72877707  0.37251968], error 120261.38200952603\n",
      "Epoch: 84, weights: [-0.05742384  0.71438856  0.25938063  0.23331199  0.72877695  0.3725214 ], error 120139.05905517051\n",
      "Epoch: 85, weights: [-0.05739978  0.71404099  0.2594073   0.23331223  0.72877684  0.37252313], error 120016.86381154667\n",
      "Epoch: 86, weights: [-0.05737572  0.7136936   0.25943394  0.23331247  0.72877672  0.37252485], error 119894.79614507777\n",
      "Epoch: 87, weights: [-0.05735168  0.71334639  0.25946057  0.23331271  0.7287766   0.37252657], error 119772.85592232678\n",
      "Epoch: 88, weights: [-0.05732766  0.71299936  0.25948717  0.23331295  0.72877649  0.37252829], error 119651.04300999631\n",
      "Epoch: 89, weights: [-0.05730364  0.71265251  0.25951375  0.23331318  0.72877637  0.37253001], error 119529.35727492838\n",
      "Epoch: 90, weights: [-0.05727964  0.71230584  0.25954031  0.23331342  0.72877625  0.37253173], error 119407.79858410437\n",
      "Epoch: 91, weights: [-0.05725564  0.71195935  0.25956684  0.23331366  0.72877614  0.37253345], error 119286.36680464461\n",
      "Epoch: 92, weights: [-0.05723166  0.71161305  0.25959336  0.23331389  0.72877602  0.37253516], error 119165.06180380873\n",
      "Epoch: 93, weights: [-0.0572077   0.71126692  0.25961985  0.23331413  0.7287759   0.37253688], error 119043.88344899497\n",
      "Epoch: 94, weights: [-0.05718374  0.71092097  0.25964633  0.23331437  0.72877579  0.37253859], error 118922.83160774034\n",
      "Epoch: 95, weights: [-0.0571598   0.7105752   0.25967278  0.2333146   0.72877567  0.3725403 ], error 118801.9061477205\n",
      "Epoch: 96, weights: [-0.05713587  0.71022962  0.2596992   0.23331484  0.72877555  0.37254201], error 118681.10693674948\n",
      "Epoch: 97, weights: [-0.05711195  0.70988421  0.25972561  0.23331508  0.72877544  0.37254372], error 118560.43384277952\n",
      "Epoch: 98, weights: [-0.05708805  0.70953898  0.259752    0.23331531  0.72877532  0.37254543], error 118439.88673390105\n",
      "Epoch: 99, weights: [-0.05706415  0.70919393  0.25977836  0.23331555  0.72877521  0.37254714], error 118319.46547834255\n"
     ]
    }
   ],
   "source": [
    "p.fit(X, y)"
   ]
  },
  {
   "cell_type": "code",
   "execution_count": 12,
   "id": "531559cb",
   "metadata": {},
   "outputs": [
    {
     "data": {
      "text/plain": [
       "array([-0.05706415,  0.70919393,  0.25977836,  0.23331555,  0.72877521,\n",
       "        0.37254714])"
      ]
     },
     "execution_count": 12,
     "metadata": {},
     "output_type": "execute_result"
    }
   ],
   "source": [
    "p.w"
   ]
  },
  {
   "cell_type": "code",
   "execution_count": 13,
   "id": "869058ba",
   "metadata": {},
   "outputs": [
    {
     "data": {
      "text/plain": [
       "<matplotlib.collections.PathCollection at 0x15c9c431e50>"
      ]
     },
     "execution_count": 13,
     "metadata": {},
     "output_type": "execute_result"
    },
    {
     "data": {
      "image/png": "[encoded data removed]",
      "text/plain": [
       "<Figure size 640x480 with 1 Axes>"
      ]
     },
     "metadata": {},
     "output_type": "display_data"
    }
   ],
   "source": [
    "plt.scatter(range(p.epochs), p.list_of_errors)"
   ]
  },
  {
   "cell_type": "code",
   "execution_count": 23,
   "id": "2236f0a4",
   "metadata": {},
   "outputs": [],
   "source": [
    "from sklearn.preprocessing import StandardScaler"
   ]
  },
  {
   "cell_type": "code",
   "execution_count": 24,
   "id": "297e3199",
   "metadata": {},
   "outputs": [],
   "source": [
    "scaler = StandardScaler()"
   ]
  },
  {
   "cell_type": "code",
   "execution_count": 25,
   "id": "4b935e78",
   "metadata": {},
   "outputs": [
    {
     "data": {
      "text/plain": [
       "StandardScaler()"
      ]
     },
     "execution_count": 25,
     "metadata": {},
     "output_type": "execute_result"
    }
   ],
   "source": [
    "scaler.fit(X)"
   ]
  },
  {
   "cell_type": "code",
   "execution_count": 27,
   "id": "ffed16b4",
   "metadata": {},
   "outputs": [],
   "source": [
    "X_std = scaler.transform(X)"
   ]
  },
  {
   "cell_type": "code",
   "execution_count": 30,
   "id": "cd36c76b",
   "metadata": {},
   "outputs": [
    {
     "data": {
      "text/plain": [
       "array([[ 0.9843749 ,  2.48757756, -2.07333501,  2.10952635,  2.65287398],\n",
       "       [ 1.90870825,  0.74240195, -0.35363241, -0.14674897, -0.02384586],\n",
       "       [ 1.55888363,  1.18133606,  0.45618695,  0.85497394,  1.36347845],\n",
       "       ...,\n",
       "       [ 0.57795264,  0.1806983 ,  2.0455738 ,  0.3267666 ,  0.04658753],\n",
       "       [ 1.73521799,  1.0095027 ,  2.33645719,  3.19760468,  3.296944  ],\n",
       "       [-1.34778924, -0.46615196,  1.22179204, -1.30583065, -1.11487284]])"
      ]
     },
     "execution_count": 30,
     "metadata": {},
     "output_type": "execute_result"
    }
   ],
   "source": [
    "X_std"
   ]
  },
  {
   "cell_type": "code",
   "execution_count": 31,
   "id": "a5b3ca9f",
   "metadata": {},
   "outputs": [],
   "source": [
    "p = Perceptron(eta = 0.01, epochs=100, is_verbose=True)"
   ]
  },
  {
   "cell_type": "code",
   "execution_count": 32,
   "id": "9e221762",
   "metadata": {},
   "outputs": [
    {
     "name": "stdout",
     "output_type": "stream",
     "text": [
      "Epoch: 0, weights: [-4.14296836 -4.23139917 -4.79557495 -3.71273861 -4.39564794 -3.40223787], error 622.1516807597347\n",
      "Epoch: 1, weights: [79.34258574 72.39093124 52.52411349 72.72437316 82.41276262 14.50649559], error 87111.60134222734\n",
      "Epoch: 2, weights: [-1327.52925833 -1224.24526387  -762.41922207 -1232.03928774\n",
      " -1402.92295759   -69.48546433], error 23280503.003776252\n",
      "Epoch: 3, weights: [22265.77029314 20543.89908211 12337.83373348 20699.88819384\n",
      " 23575.94259373   324.4368277 ], error 6503519232.385018\n",
      "Epoch: 4, weights: [-372887.93338758 -344138.27907519 -204939.68473401 -346770.70507843\n",
      " -395012.12771913   -1523.05872191], error 1822329763679.5483\n",
      "Epoch: 5, weights: [6243217.97720557 5762177.77664618 3424922.48918922 5806206.85476028\n",
      " 6614191.7751421     7141.69540577], error 510739890508248.9\n",
      "Epoch: 6, weights: [-1.04522113e+08 -9.64699802e+07 -5.73150725e+07 -9.72063760e+07\n",
      " -1.10734632e+08 -3.34960015e+04], error 1.4314609662570629e+17\n",
      "Epoch: 7, weights: [1.74984921e+09 1.61505018e+09 9.59445634e+08 1.62737399e+09\n",
      " 1.85386118e+09 1.57094797e+05], error 4.011989244334204e+19\n",
      "Epoch: 8, weights: [-2.92948527e+10 -2.70381543e+10 -1.60620822e+10 -2.72444485e+10\n",
      " -3.10361714e+10 -7.36776047e+05], error 1.124449743413835e+22\n",
      "Epoch: 9, weights: [4.90435155e+11 4.52655077e+11 2.68899530e+11 4.56108609e+11\n",
      " 5.19587219e+11 3.45547821e+06], error 3.1515219940025763e+24\n",
      "Epoch: 10, weights: [-8.21054092e+12 -7.57805216e+12 -4.50173320e+12 -7.63586843e+12\n",
      " -8.69858564e+12 -1.62061943e+07], error 8.832845524887439e+26\n",
      "Epoch: 11, weights: [1.37455437e+14 1.26866731e+14 7.53650169e+13 1.27834650e+14\n",
      " 1.45625959e+14 7.60070496e+07], error 2.4756025887902017e+29\n",
      "Epoch: 12, weights: [-2.30118785e+15 -2.12391874e+15 -1.26171110e+15 -2.14012300e+15\n",
      " -2.43797331e+15 -3.56473064e+08], error 6.938430158635726e+31\n",
      "Epoch: 13, weights: [3.85249620e+16 3.55572401e+16 2.11227309e+16 3.58285210e+16\n",
      " 4.08149335e+16 1.67185867e+09], error 1.9446502958216945e+34\n",
      "Epoch: 14, weights: [-6.44959383e+17 -5.95275750e+17 -3.53622762e+17 -5.99817356e+17\n",
      " -6.83296569e+17 -7.84101709e+09], error 5.450317559704386e+36\n",
      "Epoch: 15, weights: [1.07974826e+19 9.96571212e+18 5.92011793e+18 1.00417447e+19\n",
      " 1.14392983e+19 3.67743696e+10], error 1.5275734442047874e+39\n",
      "Epoch: 16, weights: [-1.80764298e+20 -1.66839348e+20 -9.91106911e+19 -1.68112235e+20\n",
      " -1.91509152e+20 -1.72471785e+11], error 4.2813663642128036e+41\n",
      "Epoch: 17, weights: [3.02623608e+21 2.79311380e+21 1.65924551e+21 2.81442362e+21\n",
      " 3.20611931e+21 8.08892433e+11], error 1.1999487169767412e+44\n",
      "Epoch: 18, weights: [-5.06632389e+22 -4.67604602e+22 -2.77779887e+22 -4.71172152e+22\n",
      " -5.36747247e+22 -3.79370326e+12], error 3.36312476178121e+46\n",
      "Epoch: 19, weights: [8.48170372e+23 7.82832637e+23 4.65040679e+23 7.88805191e+23\n",
      " 8.98586671e+23 1.77924024e+13], error 9.425909627040466e+48\n",
      "Epoch: 20, weights: [-1.41995063e+25 -1.31056652e+25 -7.78540286e+24 -1.32056538e+25\n",
      " -1.50435425e+25 -8.34451844e+13], error 2.641822072936648e+51\n",
      "Epoch: 21, weights: [2.37718724e+26 2.19406362e+26 1.30338055e+26 2.21080304e+26\n",
      " 2.51849020e+26 3.91327630e+14], error 7.404297453726608e+53\n",
      "Epoch: 22, weights: [-3.97972934e+27 -3.67315591e+27 -2.18203335e+27 -3.70117994e+27\n",
      " -4.21628939e+27 -1.83512569e+15], error 2.0752200288159645e+56\n",
      "Epoch: 23, weights: [6.66259912e+28 6.14935420e+28 3.65301563e+28 6.19627018e+28\n",
      " 7.05863228e+28 8.60390159e+15], error 5.816268450737939e+58\n",
      "Epoch: 24, weights: [-1.11540819e+30 -1.02948413e+30 -6.11563667e+29 -1.03733849e+30\n",
      " -1.18170944e+30 -4.02221552e+16], error 1.6301393693829626e+61\n",
      "Epoch: 25, weights: [1.86734248e+31 1.72349410e+31 1.02383936e+31 1.73664336e+31\n",
      " 1.97833963e+31 1.89044843e+17], error 4.568830318131431e+63\n",
      "Epoch: 26, weights: [-3.12618103e+32 -2.88535961e+32 -1.71404401e+32 -2.90737322e+32\n",
      " -3.31200510e+32 -8.66238622e+17], error 1.2805169219229518e+66\n",
      "Epoch: 27, weights: [5.23364510e+33 4.83047785e+33 2.86953889e+33 4.86733157e+33\n",
      " 5.54473946e+33 4.36081925e+18], error 3.5889351828711656e+68\n",
      "Epoch: 28, weights: [-8.76182179e+34 -8.08686590e+34 -4.80399185e+34 -8.14856395e+34\n",
      " -9.28263535e+34 -2.13723887e+19], error 1.0058793856084224e+71\n",
      "Epoch: 29, weights: [ 1.46684614e+36  1.35384950e+36  8.04252480e+35  1.36417858e+36\n",
      "  1.55403729e+36 -1.39936911e+19], error 2.8192020385905614e+73\n",
      "Epoch: 30, weights: [-2.45569660e+37 -2.26652511e+37 -1.34642620e+37 -2.28381737e+37\n",
      " -2.60166625e+37  4.01182374e+21], error 7.901444495341514e+75\n",
      "Epoch: 31, weights: [ 4.11116450e+38  3.79446613e+38  2.25409752e+38  3.82341569e+38\n",
      "  4.35553722e+38 -8.19352463e+22], error 2.2145566106420486e+78\n",
      "Epoch: 32, weights: [-6.88263917e+39 -6.35244374e+39 -3.77366069e+39 -6.40090916e+39\n",
      " -7.29175178e+39  6.64576447e+23], error 6.206790397160703e+80\n",
      "Epoch: 33, weights: [ 1.15224584e+41  1.06348403e+41  6.31761265e+40  1.07159779e+41\n",
      "  1.22073676e+41 -2.28852985e+25], error 1.739591882598896e+83\n",
      "Epoch: 34, weights: [-1.92901362e+42 -1.78041449e+42 -1.05765284e+42 -1.79399801e+42\n",
      " -2.04367659e+42  2.94336837e+26], error 4.875595475865109e+85\n",
      "Epoch: 35, weights: [ 3.22942677e+43  2.98065195e+43  1.77065230e+43  3.00339258e+43\n",
      "  3.42138790e+43 -4.07559150e+27], error 1.3664947210930041e+88\n",
      "Epoch: 36, weights: [-5.40649228e+44 -4.99000997e+44 -2.96430874e+44 -5.02808082e+44\n",
      " -5.72786089e+44  3.23693633e+28], error 3.829907202142771e+90\n",
      "Epoch: 37, weights: [ 9.05119109e+45  8.35394400e+45  4.96264924e+45  8.41767970e+45\n",
      "  9.58920512e+45 -3.54264070e+29], error 1.0734171856362937e+93\n",
      "Epoch: 38, weights: [-1.51529043e+47 -1.39856194e+47 -8.30813848e+46 -1.40923215e+47\n",
      " -1.60536117e+47  1.26771841e+31], error 3.0084918344096976e+95\n",
      "Epoch: 39, weights: [2.53679882e+48 2.34137972e+48 1.39089349e+48 2.35924308e+48\n",
      " 2.68758929e+48 4.67516322e+31], error 8.431971500758686e+97\n",
      "Epoch: 40, weights: [-4.24694047e+49 -3.91978277e+49 -2.32854170e+49 -3.94968841e+49\n",
      " -4.49938388e+49 -1.65372559e+33], error 2.3632486741835178e+100\n",
      "Epoch: 41, weights: [ 7.10994628e+50  6.56224054e+50  3.89829020e+50  6.61230659e+50\n",
      "  7.53257032e+50 -1.97229187e+34], error 6.62353317433253e+102\n",
      "Epoch: 42, weights: [-1.19030009e+52 -1.09860682e+52 -6.52625911e+51 -1.10698855e+52\n",
      " -1.26105300e+52 -2.45691678e+35], error 1.8563933703100757e+105\n",
      "Epoch: 43, weights: [ 1.99272153e+53  1.83921474e+53  1.09258305e+53  1.85324687e+53\n",
      "  2.11117137e+53 -2.27893985e+37], error 5.2029577789175755e+107\n",
      "Epoch: 44, weights: [-3.33608232e+54 -3.07909143e+54 -1.82913014e+54 -3.10258309e+54\n",
      " -3.53438320e+54  5.89718862e+38], error 1.4582453310893462e+110\n",
      "Epoch: 45, weights: [ 5.58504794e+55  5.15481082e+55  3.06220846e+55  5.19413901e+55\n",
      "  5.91703012e+55 -1.32121339e+40], error 4.087058815392259e+112\n",
      "Epoch: 46, weights: [-9.35011714e+56 -8.62984266e+56 -5.12654647e+56 -8.69568331e+56\n",
      " -9.90589971e+56  8.17402577e+40], error 1.1454896788866934e+115\n",
      "Epoch: 47, weights: [1.56533465e+58 1.44475107e+58 8.58252436e+57 1.45577367e+58\n",
      " 1.65838008e+58 9.56782235e+40], error 3.210491122599629e+117\n",
      "Epoch: 48, weights: [-2.62057953e+59 -2.41870649e+59 -1.43682935e+59 -2.43715981e+59\n",
      " -2.77635003e+59  3.82299525e+43], error 8.998119702229621e+119\n",
      "Epoch: 49, weights: [ 4.38720059e+60  4.04923812e+60  2.40544448e+60  4.08013144e+60\n",
      "  4.64798124e+60 -3.61399401e+44], error 2.521924374925298e+122\n",
      "Epoch: 50, weights: [-7.34476048e+61 -6.77896612e+61 -4.02703574e+61 -6.83068567e+61\n",
      " -7.78134216e+61  2.46455103e+45], error 7.068257328546545e+124\n",
      "Epoch: 51, weights: [ 1.22961113e+63  1.13488958e+63  6.74179637e+62  1.14354813e+63\n",
      "  1.30270074e+63 -6.60433382e+46], error 1.9810372650064796e+127\n",
      "Epoch: 52, weights: [-2.05853346e+64 -1.89995693e+64 -1.12866687e+64 -1.91445249e+64\n",
      " -2.18089524e+64  1.70237364e+48], error 5.552300182245e+129\n",
      "Epoch: 53, weights: [ 3.44626030e+65  3.18078199e+65  1.88953928e+65  3.20504949e+65\n",
      "  3.65111029e+65 -2.58907773e+49], error 1.5561563559813714e+132\n",
      "Epoch: 54, weights: [-5.76950061e+66 -5.32505441e+66 -3.16334144e+66 -5.36568146e+66\n",
      " -6.11244689e+66  4.04077626e+48], error 4.3614763697485605e+134\n",
      "Epoch: 55, weights: [ 9.65891558e+67  8.91485320e+67  5.29585660e+67  8.98286831e+67\n",
      "  1.02330535e+68 -3.19863545e+51], error 1.2224013384489756e+137\n",
      "Epoch: 56, weights: [-1.61703164e+69 -1.49246564e+69 -8.86597216e+68 -1.50385228e+69\n",
      " -1.71315000e+69  1.71122732e+53], error 3.426053257117594e+139\n",
      "Epoch: 57, weights: [ 2.70712720e+70  2.49858707e+70  1.48428230e+70  2.51764983e+70\n",
      "  2.86804220e+70 -1.16981087e+54], error 9.602280815153107e+141\n",
      "Epoch: 58, weights: [-4.53209296e+71 -4.18296890e+71 -2.48488707e+71 -4.21488250e+71\n",
      " -4.80148619e+71  2.27371196e+55], error 2.691254044621311e+144\n",
      "Epoch: 59, weights: [7.58732969e+72 7.00284932e+72 4.16003326e+72 7.05627696e+72\n",
      " 8.03832999e+72 3.24822641e+56], error 7.542841614526437e+146\n",
      "Epoch: 60, weights: [-1.27022046e+74 -1.17237063e+74 -6.96445199e+73 -1.18131513e+74\n",
      " -1.34572394e+74  8.79890998e+57], error 2.1140501297356116e+149\n",
      "Epoch: 61, weights: [ 2.12651891e+75  1.96270521e+75  1.16594240e+75  1.97767950e+75\n",
      "  2.25292183e+75 -9.36433903e+58], error 5.92509849660385e+151\n",
      "Epoch: 62, weights: [-3.56007703e+76 -3.28583099e+76 -1.95194350e+76 -3.31089996e+76\n",
      " -3.77169243e+76  9.18727578e+59], error 1.6606414247540962e+154\n",
      "Epoch: 63, weights: [ 5.96004504e+77  5.50092049e+77  3.26781445e+77  5.54288929e+77\n",
      "  6.31431752e+77 -4.94748495e+61], error 4.6543191529895885e+156\n",
      "Epoch: 64, weights: [-9.97791243e+78 -9.20927653e+78 -5.47075839e+78 -9.27953792e+78\n",
      " -1.05710119e+79  2.31182419e+63], error 1.3044770806613774e+159\n",
      "Epoch: 65, weights: [ 1.67043598e+80  1.54175605e+80  9.15878114e+79  1.55351874e+80\n",
      "  1.76972876e+80 -3.19146706e+64], error 3.6560888886998807e+161\n",
      "Epoch: 66, weights: [-2.79653321e+81 -2.58110580e+81 -1.53330244e+81 -2.60079813e+81\n",
      " -2.96276262e+81  2.77703467e+65], error 1.0247007141971089e+164\n",
      "Epoch: 67, weights: [ 4.68177057e+82  4.32111628e+82  2.56695334e+82  4.35408387e+82\n",
      "  4.96006083e+82 -3.39558927e+66], error 2.8719530231373945e+166\n",
      "Epoch: 68, weights: [-7.83791003e+83 -7.23412652e+83 -4.29742317e+83 -7.28931867e+83\n",
      " -8.30380513e+83 -5.86634799e+67], error 8.049290932299898e+168\n",
      "Epoch: 69, weights: [ 1.31217096e+85  1.21108952e+85  7.19446107e+84  1.22032942e+85\n",
      "  1.39016803e+85 -5.24531358e+68], error 2.255993882588857e+171\n",
      "Epoch: 70, weights: [-2.19674966e+86 -2.02752582e+86 -1.20444899e+86 -2.04299465e+86\n",
      " -2.32732718e+86  3.06713621e+70], error 6.322927623171567e+173\n",
      "Epoch: 71, weights: [ 3.67765269e+87  3.39434936e+87  2.01640869e+87  3.42024626e+87\n",
      "  3.89625693e+87 -4.53003022e+71], error 1.7721419387001078e+176\n",
      "Epoch: 72, weights: [-6.15688242e+88 -5.68259475e+88 -3.37573780e+88 -5.72594962e+88\n",
      " -6.52285515e+88  1.05014488e+73], error 4.9668242909991034e+178\n",
      "Epoch: 73, weights: [ 1.03074445e+90  9.51342354e+89  5.65143651e+89  9.58600540e+89\n",
      "  1.09201318e+90 -1.22930842e+74], error 1.3920636377328844e+181\n",
      "Epoch: 74, weights: [-1.72560406e+91 -1.59267432e+91 -9.46126048e+90 -1.60482550e+91\n",
      " -1.82817610e+91  1.96675452e+75], error 3.901569811941749e+183\n",
      "Epoch: 75, weights: [ 2.88889195e+92  2.66634981e+92  1.58394153e+92  2.68669249e+92\n",
      "  3.06061128e+92 -4.16000191e+76], error 1.0935022354470926e+186\n",
      "Epoch: 76, weights: [-4.83639146e+93 -4.46382615e+93 -2.65172994e+93 -4.49788253e+93\n",
      " -5.12387257e+93  3.75251502e+77], error 3.0647846804327263e+188\n",
      "Epoch: 77, weights: [ 8.09676608e+94  7.47304191e+94  4.43935054e+94  7.53005685e+94\n",
      "  8.57804790e+94 -2.51491905e+78], error 8.589744796977695e+190\n",
      "Epoch: 78, weights: [-1.35550692e+96 -1.25108715e+96 -7.43206647e+95 -1.26063222e+96\n",
      " -1.43607993e+96  1.28993239e+79], error 2.4074681705465708e+193\n",
      "Epoch: 79, weights: [ 2.26929985e+97  2.09448720e+97  1.24422732e+97  2.11046691e+97\n",
      "  2.40418985e+97 -2.43214251e+80], error 6.747468206778559e+195\n",
      "Epoch: 80, weights: [-3.79911143e+98 -3.50645167e+98 -2.08300292e+98 -3.53320384e+98\n",
      " -4.02493533e+98  4.08867287e+82], error 1.8911289361367167e+198\n",
      "Epoch: 81, weights: [ 6.36022059e+99  5.87026901e+99  3.48722544e+99  5.91505573e+99\n",
      "  6.73827999e+99 -5.85623989e+83], error 5.300311974053825e+200\n",
      "Epoch: 82, weights: [-1.06478598e+101 -9.82761536e+100 -5.83808174e+100 -9.90259431e+100\n",
      " -1.12807818e+101  8.31179954e+084], error 1.4855310225271396e+203\n",
      "Epoch: 83, weights: [ 1.78259413e+102  1.64527424e+102  9.77372955e+101  1.65782671e+102\n",
      "  1.88855373e+102 -2.63972672e+086], error 4.163533070682077e+205\n",
      "Epoch: 84, weights: [-2.98430095e+103 -2.75440909e+103 -1.63625303e+103 -2.77542362e+103\n",
      " -3.16169150e+103  2.73136423e+086], error 1.1669233000044331e+208\n",
      "Epoch: 85, weights: [4.99611888e+104 4.61124917e+104 2.73930639e+104 4.64643030e+104\n",
      " 5.29309439e+104 2.54177993e+088], error 3.2705636414463734e+210\n",
      "Epoch: 86, weights: [-8.36417114e+105 -7.71984777e+105 -4.58596522e+105 -7.77874569e+105\n",
      " -8.86134785e+105 -7.89802945e+088], error 9.166486377219762e+212\n",
      "Epoch: 87, weights: [ 1.40027410e+107  1.29240575e+107  7.67751906e+106  1.30226605e+107\n",
      "  1.48350813e+107 -1.09567524e+091], error 2.569112902710447e+215\n",
      "Epoch: 88, weights: [-2.34424611e+108 -2.16366006e+108 -1.28531936e+108 -2.18016752e+108\n",
      " -2.48359100e+108  2.71946804e+092], error 7.200513735858745e+217\n",
      "Epoch: 89, weights: [ 3.92458148e+109  3.62225629e+109  2.15179650e+109  3.64989199e+109\n",
      "  4.15786347e+109 -2.87779970e+093], error 2.0181050823259184e+220\n",
      "Epoch: 90, weights: [-6.57027423e+110 -6.06414144e+110 -3.60239510e+110 -6.11040729e+110\n",
      " -6.96081948e+110  3.68382092e+094], error 5.656191034019297e+222\n",
      "Epoch: 91, weights: [ 1.09995177e+112  1.01521837e+112  6.03089114e+111  1.02296389e+112\n",
      "  1.16533427e+112 -1.60253184e+096], error 1.585274091696361e+225\n",
      "Epoch: 92, weights: [-1.84146636e+113 -1.69961132e+113 -1.00965183e+113 -1.71257836e+113\n",
      " -1.95092540e+113  1.90738227e+097], error 4.443085339035861e+227\n",
      "Epoch: 93, weights: [ 3.08286094e+114  2.84537664e+114  1.69029218e+114  2.86708520e+114\n",
      "  3.26611002e+114 -7.93524599e+097], error 1.2452740780511373e+230\n",
      "Epoch: 94, weights: [-5.16112149e+115 -4.76354100e+115 -2.82977515e+115 -4.79988403e+115\n",
      " -5.46790495e+115  2.32662334e+099], error 3.490159227512408e+232\n",
      "Epoch: 95, weights: [ 8.64040757e+116  7.97480467e+116  4.73742203e+116  8.03564776e+116\n",
      "  9.15400412e+116 -8.76131265e+100], error 9.781952140571083e+234\n",
      "Epoch: 96, weights: [-1.44651977e+118 -1.33508895e+118 -7.93107801e+117 -1.34527490e+118\n",
      " -1.53250271e+118  1.33462478e+102], error 2.7416109536246983e+237\n",
      "Epoch: 97, weights: [ 2.42166755e+119  2.23511744e+119  1.32776852e+119  2.25217008e+119\n",
      "  2.56561447e+119 -2.60798509e+103], error 7.683978119112019e+239\n",
      "Epoch: 98, weights: [-4.05419532e+120 -3.74188550e+120 -2.22286207e+120 -3.77043389e+120\n",
      " -4.29518172e+120  5.11458887e+104], error 2.153606793003599e+242\n",
      "Epoch: 99, weights: [ 6.78726513e+121  6.26441672e+121  3.72136836e+121  6.31221055e+121\n",
      "  7.19070859e+121 -8.22677084e+105], error 6.035964896015647e+244\n"
     ]
    }
   ],
   "source": [
    "p.fit(X_std, y)"
   ]
  },
  {
   "cell_type": "code",
   "execution_count": 33,
   "id": "7b5a3faf",
   "metadata": {},
   "outputs": [
    {
     "data": {
      "text/plain": [
       "<matplotlib.collections.PathCollection at 0x15c9d3dddf0>"
      ]
     },
     "execution_count": 33,
     "metadata": {},
     "output_type": "execute_result"
    },
    {
     "data": {
      "image/png": "[encoded data removed]",
      "text/plain": [
       "<Figure size 640x480 with 1 Axes>"
      ]
     },
     "metadata": {},
     "output_type": "display_data"
    }
   ],
   "source": [
    "plt.scatter(range(p.epochs), p.list_of_errors)"
   ]
  },
  {
   "cell_type": "code",
   "execution_count": 34,
   "id": "b45323dd",
   "metadata": {},
   "outputs": [],
   "source": [
    "p = Perceptron(eta=0.0001)"
   ]
  },
  {
   "cell_type": "code",
   "execution_count": 35,
   "id": "1b68c8a2",
   "metadata": {},
   "outputs": [],
   "source": [
    "p.fit(X_std, y)"
   ]
  },
  {
   "cell_type": "code",
   "execution_count": 36,
   "id": "01562312",
   "metadata": {},
   "outputs": [
    {
     "data": {
      "text/plain": [
       "<matplotlib.collections.PathCollection at 0x15c9ec68580>"
      ]
     },
     "execution_count": 36,
     "metadata": {},
     "output_type": "execute_result"
    },
    {
     "data": {
      "image/png": "[encoded data removed]",
      "text/plain": [
       "<Figure size 640x480 with 1 Axes>"
      ]
     },
     "metadata": {},
     "output_type": "display_data"
    }
   ],
   "source": [
    "plt.scatter(range(p.epochs), p.list_of_errors)"
   ]
  },
  {
   "cell_type": "code",
   "execution_count": 37,
   "id": "a259f773",
   "metadata": {},
   "outputs": [],
   "source": [
    "p = Perceptron(eta=0.000000001)"
   ]
  },
  {
   "cell_type": "code",
   "execution_count": 38,
   "id": "263fa46c",
   "metadata": {},
   "outputs": [],
   "source": [
    "p.fit(X_std, y)"
   ]
  },
  {
   "cell_type": "code",
   "execution_count": 39,
   "id": "91cd439c",
   "metadata": {},
   "outputs": [
    {
     "data": {
      "text/plain": [
       "<matplotlib.collections.PathCollection at 0x15c9cf122b0>"
      ]
     },
     "execution_count": 39,
     "metadata": {},
     "output_type": "execute_result"
    },
    {
     "data": {
      "image/png": "[encoded data removed]",
      "text/plain": [
       "<Figure size 640x480 with 1 Axes>"
      ]
     },
     "metadata": {},
     "output_type": "display_data"
    }
   ],
   "source": [
    "plt.scatter(range(p.epochs), p.list_of_errors)"
   ]
  },
  {
   "cell_type": "code",
   "execution_count": 40,
   "id": "d0378dfe",
   "metadata": {},
   "outputs": [],
   "source": [
    "from sklearn.model_selection import train_test_split"
   ]
  },
  {
   "cell_type": "code",
   "execution_count": 41,
   "id": "430fdcac",
   "metadata": {},
   "outputs": [],
   "source": [
    "X_train, X_test, Y_train, Y_test = train_test_split(X_std, y , test_size=0.2)"
   ]
  },
  {
   "cell_type": "code",
   "execution_count": 42,
   "id": "2d7992d4",
   "metadata": {},
   "outputs": [],
   "source": [
    "p = Perceptron(eta=0.001, epochs=100)"
   ]
  },
  {
   "cell_type": "code",
   "execution_count": 43,
   "id": "7fb45d3e",
   "metadata": {},
   "outputs": [],
   "source": [
    "p.fit(X_train, Y_train)"
   ]
  },
  {
   "cell_type": "code",
   "execution_count": 44,
   "id": "62ce80a7",
   "metadata": {},
   "outputs": [
    {
     "data": {
      "text/plain": [
       "<matplotlib.collections.PathCollection at 0x15c9f788190>"
      ]
     },
     "execution_count": 44,
     "metadata": {},
     "output_type": "execute_result"
    },
    {
     "data": {
      "image/png": "[encoded data removed]",
      "text/plain": [
       "<Figure size 640x480 with 1 Axes>"
      ]
     },
     "metadata": {},
     "output_type": "display_data"
    }
   ],
   "source": [
    "plt.scatter(range(p.epochs), p.list_of_errors)"
   ]
  },
  {
   "cell_type": "code",
   "execution_count": 46,
   "id": "2ffd1b79",
   "metadata": {},
   "outputs": [],
   "source": [
    "y_pred = p.predict(X_test)"
   ]
  },
  {
   "cell_type": "code",
   "execution_count": 47,
   "id": "26d084d8",
   "metadata": {},
   "outputs": [],
   "source": [
    "good = Y_test[Y_test == y_pred].count() "
   ]
  },
  {
   "cell_type": "code",
   "execution_count": 48,
   "id": "4d3e1182",
   "metadata": {},
   "outputs": [
    {
     "data": {
      "text/plain": [
       "105"
      ]
     },
     "execution_count": 48,
     "metadata": {},
     "output_type": "execute_result"
    }
   ],
   "source": [
    "good"
   ]
  },
  {
   "cell_type": "code",
   "execution_count": 51,
   "id": "5bfcba46",
   "metadata": {},
   "outputs": [],
   "source": [
    "total = Y_test.count()"
   ]
  },
  {
   "cell_type": "code",
   "execution_count": 52,
   "id": "ead0e5bf",
   "metadata": {},
   "outputs": [
    {
     "data": {
      "text/plain": [
       "114"
      ]
     },
     "execution_count": 52,
     "metadata": {},
     "output_type": "execute_result"
    }
   ],
   "source": [
    "total"
   ]
  },
  {
   "cell_type": "code",
   "execution_count": 53,
   "id": "2b980baf",
   "metadata": {},
   "outputs": [
    {
     "data": {
      "text/plain": [
       "0.9210526315789473"
      ]
     },
     "execution_count": 53,
     "metadata": {},
     "output_type": "execute_result"
    }
   ],
   "source": [
    "good / total"
   ]
  },
  {
   "cell_type": "code",
   "execution_count": 54,
   "id": "acb0dd2a",
   "metadata": {},
   "outputs": [
    {
     "name": "stdout",
     "output_type": "stream",
     "text": [
      "result: 92.10526315789474\n"
     ]
    }
   ],
   "source": [
    "print('result: {}'.format(100*good/total))"
   ]
  },
  {
   "cell_type": "code",
   "execution_count": null,
   "id": "6f8f7845",
   "metadata": {},
   "outputs": [],
   "source": []
  }
 ],
 "metadata": {
  "kernelspec": {
   "display_name": "Python 3 (ipykernel)",
   "language": "python",
   "name": "python3"
  },
  "language_info": {
   "codemirror_mode": {
    "name": "ipython",
    "version": 3
   },
   "file_extension": ".py",
   "mimetype": "text/x-python",
   "name": "python",
   "nbconvert_exporter": "python",
   "pygments_lexer": "ipython3",
   "version": "3.9.13"
  }
 },
 "nbformat": 4,
 "nbformat_minor": 5
}
