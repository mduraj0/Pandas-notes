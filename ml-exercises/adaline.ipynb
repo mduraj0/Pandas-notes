{
 "cells": [
  {
   "cell_type": "code",
   "execution_count": 3,
   "id": "8435303c",
   "metadata": {},
   "outputs": [],
   "source": [
    "import numpy as np\n",
    "import matplotlib.pyplot as plt\n",
    "import pandas as pd\n",
    "from sklearn.model_selection import train_test_split\n",
    "%matplotlib inline"
   ]
  },
  {
   "cell_type": "code",
   "execution_count": 4,
   "id": "03b2e754",
   "metadata": {},
   "outputs": [],
   "source": [
    "class Perceptron:\n",
    "    \n",
    "    def __init__(self, eta=0.10, epochs=50, is_verbose = False):\n",
    "        \n",
    "        self.eta = eta\n",
    "        self.epochs = epochs\n",
    "        self.is_verbose = is_verbose\n",
    "        self.list_of_errors = []\n",
    "        \n",
    "    \n",
    "    def predict(self, x):\n",
    "        \n",
    "        ones = np.ones((x.shape[0],1))\n",
    "        x_1 = np.append(x.copy(), ones, axis=1)\n",
    "        #activation = self.get_activation(x_1)\n",
    "        #y_pred = np.where(activation >0, 1, -1)\n",
    "        #return y_pred\n",
    "        return np.where(self.get_activation(x_1) > 0, 1, -1)\n",
    "        \n",
    "    \n",
    "    def get_activation(self, x):\n",
    "        \n",
    "        activation = np.dot(x, self.w)\n",
    "        return activation\n",
    "     \n",
    "    \n",
    "    def fit(self, X, y):\n",
    "        \n",
    "        self.list_of_errors = []\n",
    "        \n",
    "        ones = np.ones((X.shape[0], 1))\n",
    "        X_1 = np.append(X.copy(), ones, axis=1)\n",
    " \n",
    "        self.w = np.random.rand(X_1.shape[1])\n",
    "        \n",
    "        for e in range(self.epochs):\n",
    " \n",
    "            error = 0\n",
    "            \n",
    "            activation = self.get_activation(X_1)\n",
    "            delta_w = self.eta * np.dot((y - activation), X_1)\n",
    "            self.w += delta_w\n",
    "                \n",
    "            error = np.square(y - activation).sum()/2.0\n",
    "                \n",
    "            self.list_of_errors.append(error)\n",
    "            \n",
    "            if(self.is_verbose):\n",
    "                print(\"Epoch: {}, weights: {}, error {}\".format(\n",
    "                        e, self.w, error))"
   ]
  },
  {
   "cell_type": "code",
   "execution_count": 5,
   "id": "2a784a5a",
   "metadata": {},
   "outputs": [],
   "source": [
    "X = np.array([\n",
    "    [2., 4.,  20.],  # 2*2 - 4*4 + 20 =   8 > 0\n",
    "    [4., 3., -10.],  # 2*4 - 4*3 - 10 = -14 < 0\n",
    "    [5., 6.,  13.],  # 2*5 - 4*6 + 13 =  -1 < 0\n",
    "    [5., 4.,   8.],  # 2*5 - 4*4 + 8 =    2 > 0\n",
    "    [3., 4.,   5.],  # 2*3 - 4*4 + 5 =   -5 < 0 \n",
    "])"
   ]
  },
  {
   "cell_type": "code",
   "execution_count": 6,
   "id": "53a1578f",
   "metadata": {},
   "outputs": [],
   "source": [
    "y = np.array([1, -1, -1, 1, -1])"
   ]
  },
  {
   "cell_type": "code",
   "execution_count": 7,
   "id": "836ad715",
   "metadata": {},
   "outputs": [],
   "source": [
    "perceptron = Perceptron(eta=0.0001, epochs=100, is_verbose=True)"
   ]
  },
  {
   "cell_type": "code",
   "execution_count": 8,
   "id": "11c63725",
   "metadata": {},
   "outputs": [
    {
     "name": "stdout",
     "output_type": "stream",
     "text": [
      "Epoch: 0, weights: [0.38913994 0.36868788 0.44131094 0.43956335], error 187.06174067256808\n",
      "Epoch: 1, weights: [0.3764116  0.35270145 0.39697108 0.43614124], error 159.79628798462988\n",
      "Epoch: 2, weights: [0.36445347 0.33777338 0.356445   0.43293822], error 136.8260575271529\n",
      "Epoch: 3, weights: [0.35320462 0.32381839 0.31941453 0.42993676], error 117.46797382509908\n",
      "Epoch: 4, weights: [0.34260914 0.31075827 0.28558795 0.42712079], error 101.14772450971805\n",
      "Epoch: 5, weights: [0.33261573 0.29852128 0.25469779 0.42447557], error 87.38243973636719\n",
      "Epoch: 6, weights: [0.32317731 0.28704163 0.22649881 0.42198755], error 75.76612996954279\n",
      "Epoch: 7, weights: [0.31425071 0.27625893 0.20076617 0.41964434], error 65.95744285374221\n",
      "Epoch: 8, weights: [0.30579629 0.26611783 0.17729371 0.41743454], error 57.669369846176195\n",
      "Epoch: 9, weights: [0.29777768 0.2565675  0.1558924  0.4153477 ], error 50.66059210373956\n",
      "Epoch: 10, weights: [0.29016151 0.24756135 0.13638896 0.41337425], error 44.728204566281086\n",
      "Epoch: 11, weights: [0.28291715 0.23905662 0.11862449 0.41150537], error 39.70159875278582\n",
      "Epoch: 12, weights: [0.27601649 0.23101407 0.10245331 0.40973301], error 35.437319740728825\n",
      "Epoch: 13, weights: [0.26943371 0.22339771 0.08774186 0.40804975], error 31.81474218599185\n",
      "Epoch: 14, weights: [0.26314513 0.21617449 0.07436768 0.4064488 ], error 28.732434947842297\n",
      "Epoch: 15, weights: [0.25712899 0.20931412 0.06221851 0.40492391], error 26.105104655871536\n",
      "Epoch: 16, weights: [0.25136531 0.20278877 0.05119142 0.40346935], error 23.861026020095547\n",
      "Epoch: 17, weights: [0.24583577 0.19657291 0.04119204 0.40207988], error 21.93988136846324\n",
      "Epoch: 18, weights: [0.24052351 0.1906431  0.03213385 0.40075066], error 20.290944240724052\n",
      "Epoch: 19, weights: [0.23541307 0.18497784 0.02393755 0.39947726], error 18.87155224636645\n",
      "Epoch: 20, weights: [0.23049023 0.17955738 0.01653041 0.3982556 ], error 17.645823120238042\n",
      "Epoch: 21, weights: [0.22574194 0.17436359 0.00984577 0.39708196], error 16.58357524572098\n",
      "Epoch: 22, weights: [0.22115619 0.16937983 0.00382251 0.39595291], error 15.659420083269055\n",
      "Epoch: 23, weights: [ 0.21672196  0.16459081 -0.00159538  0.39486527], error 14.851999127775986\n",
      "Epoch: 24, weights: [ 0.21242912  0.1599825  -0.00645926  0.39381617], error 14.143342378069555\n",
      "Epoch: 25, weights: [ 0.20826833  0.15554199 -0.01081622  0.39280294], error 13.518328967330419\n",
      "Epoch: 26, weights: [ 0.20423103  0.15125746 -0.01470942  0.39182313], error 12.964233684992273\n",
      "Epoch: 27, weights: [ 0.20030935  0.14711801 -0.01817841  0.39087449], error 12.470345711654673\n",
      "Epoch: 28, weights: [ 0.19649601  0.14311365 -0.02125947  0.38995496], error 12.027648066891107\n",
      "Epoch: 29, weights: [ 0.19278436  0.13923519 -0.02398584  0.38906264], error 11.62854810127466\n",
      "Epoch: 30, weights: [ 0.18916825  0.13547419 -0.02638799  0.38819577], error 11.26665090371894\n",
      "Epoch: 31, weights: [ 0.18564202  0.13182287 -0.02849384  0.38735275], error 10.936568789791561\n",
      "Epoch: 32, weights: [ 0.18220045  0.1282741  -0.03032899  0.38653211], error 10.633761125053168\n",
      "Epoch: 33, weights: [ 0.17883876  0.12482131 -0.03191691  0.38573247], error 10.354399652539126\n",
      "Epoch: 34, weights: [ 0.17555251  0.12145846 -0.03327909  0.38495258], error 10.095255262837384\n",
      "Epoch: 35, weights: [ 0.17233762  0.11817999 -0.03443525  0.3841913 ], error 9.85360279203236\n",
      "Epoch: 36, weights: [ 0.16919034  0.11498078 -0.03540344  0.38344755], error 9.627140976592916\n",
      "Epoch: 37, weights: [ 0.16610718  0.11185612 -0.0362002   0.38272036], error 9.413925151486962\n",
      "Epoch: 38, weights: [ 0.16308495  0.10880167 -0.03684072  0.38200882], error 9.212310662198057\n",
      "Epoch: 39, weights: [ 0.16012068  0.10581344 -0.03733887  0.3813121 ], error 9.020905284496004\n",
      "Epoch: 40, weights: [ 0.15721163  0.10288772 -0.0377074   0.38062942], error 8.838529217522963\n",
      "Epoch: 41, weights: [ 0.15435527  0.10002115 -0.03795796  0.37996009], error 8.664181444195169\n",
      "Epoch: 42, weights: [ 0.15154926  0.09721056 -0.03810125  0.37930344], error 8.497011444979268\n",
      "Epoch: 43, weights: [ 0.14879143  0.09445309 -0.03814705  0.37865886], error 8.33629541257493\n",
      "Epoch: 44, weights: [ 0.14607978  0.09174605 -0.03810433  0.37802581], error 8.181416250792992\n",
      "Epoch: 45, weights: [ 0.14341243  0.08908698 -0.0379813   0.37740375], error 8.031846755055973\n",
      "Epoch: 46, weights: [ 0.14078767  0.0864736  -0.03778548  0.37679222], error 7.887135467908541\n",
      "Epoch: 47, weights: [ 0.13820389  0.08390381 -0.03752377  0.37619076], error 7.746894783604206\n",
      "Epoch: 48, weights: [ 0.13565959  0.08137566 -0.03720247  0.37559896], error 7.610790943664677\n",
      "Epoch: 49, weights: [ 0.13315339  0.07888735 -0.03682736  0.37501645], error 7.47853562233642\n",
      "Epoch: 50, weights: [ 0.130684    0.0764372  -0.03640372  0.37444286], error 7.349878848815052\n",
      "Epoch: 51, weights: [ 0.12825021  0.07402366 -0.03593639  0.37387788], error 7.2246030534186945\n",
      "Epoch: 52, weights: [ 0.12585091  0.0716453  -0.0354298   0.37332119], error 7.102518058782362\n",
      "Epoch: 53, weights: [ 0.12348504  0.06930078 -0.034888    0.3727725 ], error 6.983456865639131\n",
      "Epoch: 54, weights: [ 0.12115163  0.06698887 -0.03431471  0.37223156], error 6.867272106709848\n",
      "Epoch: 55, weights: [ 0.11884976  0.06470841 -0.0337133   0.37169811], error 6.753833062363937\n",
      "Epoch: 56, weights: [ 0.11657857  0.06245832 -0.0330869   0.37117193], error 6.643023148647456\n",
      "Epoch: 57, weights: [ 0.11433726  0.06023762 -0.03243832  0.37065279], error 6.534737802511063\n",
      "Epoch: 58, weights: [ 0.11212507  0.05804536 -0.03177017  0.3701405 ], error 6.42888270104022\n",
      "Epoch: 59, weights: [ 0.10994128  0.05588068 -0.03108482  0.36963487], error 6.325372261553186\n",
      "Epoch: 60, weights: [ 0.10778524  0.05374277 -0.03038442  0.36913572], error 6.22412837789309\n",
      "Epoch: 61, weights: [ 0.1056563   0.05163086 -0.02967096  0.36864289], error 6.125079355353725\n",
      "Epoch: 62, weights: [ 0.10355387  0.04954424 -0.02894625  0.36815621], error 6.028159012659232\n",
      "Epoch: 63, weights: [ 0.10147739  0.04748224 -0.02821193  0.36767554], error 5.933305924445965\n",
      "Epoch: 64, weights: [ 0.09942632  0.04544423 -0.02746951  0.36720075], error 5.840462781922254\n",
      "Epoch: 65, weights: [ 0.09740017  0.04342964 -0.02672035  0.3667317 ], error 5.749575852935921\n",
      "Epoch: 66, weights: [ 0.09539843  0.04143789 -0.02596572  0.36626826], error 5.660594525667677\n",
      "Epoch: 67, weights: [ 0.09342068  0.03946847 -0.02520675  0.36581033], error 5.5734709226807935\n",
      "Epoch: 68, weights: [ 0.09146645  0.03752088 -0.02444447  0.36535778], error 5.488159574169705\n",
      "Epoch: 69, weights: [ 0.08953535  0.03559466 -0.02367984  0.36491052], error 5.404617141026144\n",
      "Epoch: 70, weights: [ 0.08762697  0.03368937 -0.02291372  0.36446845], error 5.322802179834415\n",
      "Epoch: 71, weights: [ 0.08574094  0.03180458 -0.02214688  0.36403147], error 5.242674943162799\n",
      "Epoch: 72, weights: [ 0.08387689  0.0299399  -0.02138003  0.36359948], error 5.164197209573502\n",
      "Epoch: 73, weights: [ 0.08203448  0.02809495 -0.02061382  0.36317241], error 5.087332138660925\n",
      "Epoch: 74, weights: [ 0.08021337  0.02626937 -0.01984884  0.36275017], error 5.012044147174077\n",
      "Epoch: 75, weights: [ 0.07841323  0.02446282 -0.01908561  0.36233268], error 4.93829880290628\n",
      "Epoch: 76, weights: [ 0.07663377  0.02267497 -0.0183246   0.36191986], error 4.866062733562648\n",
      "Epoch: 77, weights: [ 0.07487467  0.0209055  -0.01756626  0.36151165], error 4.795303548259294\n",
      "Epoch: 78, weights: [ 0.07313566  0.01915413 -0.01681098  0.36110797], error 4.725989769680998\n",
      "Epoch: 79, weights: [ 0.07141645  0.01742055 -0.0160591   0.36070875], error 4.658090775237559\n",
      "Epoch: 80, weights: [ 0.06971678  0.0157045  -0.01531094  0.36031394], error 4.591576745822615\n",
      "Epoch: 81, weights: [ 0.06803637  0.01400571 -0.01456678  0.35992346], error 4.526418621000296\n",
      "Epoch: 82, weights: [ 0.06637499  0.01232392 -0.01382688  0.35953726], error 4.462588059631422\n",
      "Epoch: 83, weights: [ 0.06473237  0.01065889 -0.01309147  0.35915527], error 4.400057405107618\n",
      "Epoch: 84, weights: [ 0.06310828  0.00901038 -0.01236074  0.35877745], error 4.338799654493451\n",
      "Epoch: 85, weights: [ 0.06150249  0.00737815 -0.01163488  0.35840373], error 4.278788430987466\n",
      "Epoch: 86, weights: [ 0.05991478  0.005762   -0.01091405  0.35803407], error 4.21999795920612\n",
      "Epoch: 87, weights: [ 0.0583449   0.00416169 -0.01019838  0.3576684 ], error 4.162403042872997\n",
      "Epoch: 88, weights: [ 0.05679266  0.00257703 -0.009488    0.35730669], error 4.105979044561446\n",
      "Epoch: 89, weights: [ 0.05525784  0.0010078  -0.00878301  0.35694887], error 4.0507018671942845\n",
      "Epoch: 90, weights: [ 0.05374024 -0.00054619 -0.00808351  0.35659491], error 3.9965479370507038\n",
      "Epoch: 91, weights: [ 0.05223964 -0.00208512 -0.00738957  0.35624475], error 3.943494188069738\n",
      "Epoch: 92, weights: [ 0.05075585 -0.0036092  -0.00670127  0.35589836], error 3.8915180472725743\n",
      "Epoch: 93, weights: [ 0.04928869 -0.00511859 -0.00601865  0.35555568], error 3.840597421153733\n",
      "Epoch: 94, weights: [ 0.04783795 -0.00661349 -0.00534177  0.35521667], error 3.790710682914401\n",
      "Epoch: 95, weights: [ 0.04640345 -0.00809406 -0.00467065  0.35488128], error 3.7418366604308817\n",
      "Epoch: 96, weights: [ 0.044985   -0.00956047 -0.00400534  0.35454949], error 3.6939546248675645\n",
      "Epoch: 97, weights: [ 0.04358244 -0.01101289 -0.00334584  0.35422124], error 3.647044279857739\n",
      "Epoch: 98, weights: [ 0.04219557 -0.01245149 -0.00269218  0.35389649], error 3.6010857511872443\n",
      "Epoch: 99, weights: [ 0.04082423 -0.01387642 -0.00204436  0.35357521], error 3.5560595769257746\n"
     ]
    }
   ],
   "source": [
    "perceptron.fit(X, y)"
   ]
  },
  {
   "cell_type": "code",
   "execution_count": 9,
   "id": "279873a2",
   "metadata": {},
   "outputs": [
    {
     "data": {
      "text/plain": [
       "<matplotlib.collections.PathCollection at 0x21c1110abb0>"
      ]
     },
     "execution_count": 9,
     "metadata": {},
     "output_type": "execute_result"
    },
    {
     "data": {
      "image/png": "[encoded data removed]",
      "text/plain": [
       "<Figure size 640x480 with 1 Axes>"
      ]
     },
     "metadata": {},
     "output_type": "display_data"
    }
   ],
   "source": [
    "plt.scatter(range(perceptron.epochs), perceptron.list_of_errors)"
   ]
  },
  {
   "cell_type": "code",
   "execution_count": 10,
   "id": "a3c9e1c7",
   "metadata": {},
   "outputs": [],
   "source": [
    "df = pd.read_csv('../ml_data/iris.data', header=None)"
   ]
  },
  {
   "cell_type": "code",
   "execution_count": 11,
   "id": "43f408b0",
   "metadata": {},
   "outputs": [],
   "source": [
    "df = df.iloc[:100, :].copy()"
   ]
  },
  {
   "cell_type": "code",
   "execution_count": 12,
   "id": "823a3bdc",
   "metadata": {},
   "outputs": [
    {
     "data": {
      "text/html": [
       "<div>\n",
       "<style scoped>\n",
       "    .dataframe tbody tr th:only-of-type {\n",
       "        vertical-align: middle;\n",
       "    }\n",
       "\n",
       "    .dataframe tbody tr th {\n",
       "        vertical-align: top;\n",
       "    }\n",
       "\n",
       "    .dataframe thead th {\n",
       "        text-align: right;\n",
       "    }\n",
       "</style>\n",
       "<table border=\"1\" class=\"dataframe\">\n",
       "  <thead>\n",
       "    <tr style=\"text-align: right;\">\n",
       "      <th></th>\n",
       "      <th>0</th>\n",
       "      <th>1</th>\n",
       "      <th>2</th>\n",
       "      <th>3</th>\n",
       "      <th>4</th>\n",
       "    </tr>\n",
       "  </thead>\n",
       "  <tbody>\n",
       "    <tr>\n",
       "      <th>0</th>\n",
       "      <td>5.1</td>\n",
       "      <td>3.5</td>\n",
       "      <td>1.4</td>\n",
       "      <td>0.2</td>\n",
       "      <td>Iris-setosa</td>\n",
       "    </tr>\n",
       "    <tr>\n",
       "      <th>1</th>\n",
       "      <td>4.9</td>\n",
       "      <td>3.0</td>\n",
       "      <td>1.4</td>\n",
       "      <td>0.2</td>\n",
       "      <td>Iris-setosa</td>\n",
       "    </tr>\n",
       "    <tr>\n",
       "      <th>2</th>\n",
       "      <td>4.7</td>\n",
       "      <td>3.2</td>\n",
       "      <td>1.3</td>\n",
       "      <td>0.2</td>\n",
       "      <td>Iris-setosa</td>\n",
       "    </tr>\n",
       "    <tr>\n",
       "      <th>3</th>\n",
       "      <td>4.6</td>\n",
       "      <td>3.1</td>\n",
       "      <td>1.5</td>\n",
       "      <td>0.2</td>\n",
       "      <td>Iris-setosa</td>\n",
       "    </tr>\n",
       "    <tr>\n",
       "      <th>4</th>\n",
       "      <td>5.0</td>\n",
       "      <td>3.6</td>\n",
       "      <td>1.4</td>\n",
       "      <td>0.2</td>\n",
       "      <td>Iris-setosa</td>\n",
       "    </tr>\n",
       "  </tbody>\n",
       "</table>\n",
       "</div>"
      ],
      "text/plain": [
       "     0    1    2    3            4\n",
       "0  5.1  3.5  1.4  0.2  Iris-setosa\n",
       "1  4.9  3.0  1.4  0.2  Iris-setosa\n",
       "2  4.7  3.2  1.3  0.2  Iris-setosa\n",
       "3  4.6  3.1  1.5  0.2  Iris-setosa\n",
       "4  5.0  3.6  1.4  0.2  Iris-setosa"
      ]
     },
     "execution_count": 12,
     "metadata": {},
     "output_type": "execute_result"
    }
   ],
   "source": [
    "df.head()"
   ]
  },
  {
   "cell_type": "code",
   "execution_count": 13,
   "id": "c348aec7",
   "metadata": {},
   "outputs": [],
   "source": [
    "df[4] = df[4].apply(lambda x:1 if x =='Iris-setosa' else -1)"
   ]
  },
  {
   "cell_type": "code",
   "execution_count": 14,
   "id": "ae7a19d2",
   "metadata": {},
   "outputs": [
    {
     "data": {
      "text/html": [
       "<div>\n",
       "<style scoped>\n",
       "    .dataframe tbody tr th:only-of-type {\n",
       "        vertical-align: middle;\n",
       "    }\n",
       "\n",
       "    .dataframe tbody tr th {\n",
       "        vertical-align: top;\n",
       "    }\n",
       "\n",
       "    .dataframe thead th {\n",
       "        text-align: right;\n",
       "    }\n",
       "</style>\n",
       "<table border=\"1\" class=\"dataframe\">\n",
       "  <thead>\n",
       "    <tr style=\"text-align: right;\">\n",
       "      <th></th>\n",
       "      <th>0</th>\n",
       "      <th>1</th>\n",
       "      <th>2</th>\n",
       "      <th>3</th>\n",
       "      <th>4</th>\n",
       "    </tr>\n",
       "  </thead>\n",
       "  <tbody>\n",
       "    <tr>\n",
       "      <th>0</th>\n",
       "      <td>5.1</td>\n",
       "      <td>3.5</td>\n",
       "      <td>1.4</td>\n",
       "      <td>0.2</td>\n",
       "      <td>1</td>\n",
       "    </tr>\n",
       "    <tr>\n",
       "      <th>1</th>\n",
       "      <td>4.9</td>\n",
       "      <td>3.0</td>\n",
       "      <td>1.4</td>\n",
       "      <td>0.2</td>\n",
       "      <td>1</td>\n",
       "    </tr>\n",
       "    <tr>\n",
       "      <th>2</th>\n",
       "      <td>4.7</td>\n",
       "      <td>3.2</td>\n",
       "      <td>1.3</td>\n",
       "      <td>0.2</td>\n",
       "      <td>1</td>\n",
       "    </tr>\n",
       "    <tr>\n",
       "      <th>3</th>\n",
       "      <td>4.6</td>\n",
       "      <td>3.1</td>\n",
       "      <td>1.5</td>\n",
       "      <td>0.2</td>\n",
       "      <td>1</td>\n",
       "    </tr>\n",
       "    <tr>\n",
       "      <th>4</th>\n",
       "      <td>5.0</td>\n",
       "      <td>3.6</td>\n",
       "      <td>1.4</td>\n",
       "      <td>0.2</td>\n",
       "      <td>1</td>\n",
       "    </tr>\n",
       "  </tbody>\n",
       "</table>\n",
       "</div>"
      ],
      "text/plain": [
       "     0    1    2    3  4\n",
       "0  5.1  3.5  1.4  0.2  1\n",
       "1  4.9  3.0  1.4  0.2  1\n",
       "2  4.7  3.2  1.3  0.2  1\n",
       "3  4.6  3.1  1.5  0.2  1\n",
       "4  5.0  3.6  1.4  0.2  1"
      ]
     },
     "execution_count": 14,
     "metadata": {},
     "output_type": "execute_result"
    }
   ],
   "source": [
    "df.head()"
   ]
  },
  {
   "cell_type": "code",
   "execution_count": 15,
   "id": "a2b0364a",
   "metadata": {},
   "outputs": [],
   "source": [
    "X = df.iloc[0:100, :-1].values"
   ]
  },
  {
   "cell_type": "code",
   "execution_count": 17,
   "id": "cfb839bd",
   "metadata": {},
   "outputs": [
    {
     "data": {
      "text/plain": [
       "array([[5.1, 3.5, 1.4, 0.2],\n",
       "       [4.9, 3. , 1.4, 0.2],\n",
       "       [4.7, 3.2, 1.3, 0.2],\n",
       "       [4.6, 3.1, 1.5, 0.2],\n",
       "       [5. , 3.6, 1.4, 0.2],\n",
       "       [5.4, 3.9, 1.7, 0.4],\n",
       "       [4.6, 3.4, 1.4, 0.3],\n",
       "       [5. , 3.4, 1.5, 0.2],\n",
       "       [4.4, 2.9, 1.4, 0.2],\n",
       "       [4.9, 3.1, 1.5, 0.1],\n",
       "       [5.4, 3.7, 1.5, 0.2],\n",
       "       [4.8, 3.4, 1.6, 0.2],\n",
       "       [4.8, 3. , 1.4, 0.1],\n",
       "       [4.3, 3. , 1.1, 0.1],\n",
       "       [5.8, 4. , 1.2, 0.2],\n",
       "       [5.7, 4.4, 1.5, 0.4],\n",
       "       [5.4, 3.9, 1.3, 0.4],\n",
       "       [5.1, 3.5, 1.4, 0.3],\n",
       "       [5.7, 3.8, 1.7, 0.3],\n",
       "       [5.1, 3.8, 1.5, 0.3],\n",
       "       [5.4, 3.4, 1.7, 0.2],\n",
       "       [5.1, 3.7, 1.5, 0.4],\n",
       "       [4.6, 3.6, 1. , 0.2],\n",
       "       [5.1, 3.3, 1.7, 0.5],\n",
       "       [4.8, 3.4, 1.9, 0.2],\n",
       "       [5. , 3. , 1.6, 0.2],\n",
       "       [5. , 3.4, 1.6, 0.4],\n",
       "       [5.2, 3.5, 1.5, 0.2],\n",
       "       [5.2, 3.4, 1.4, 0.2],\n",
       "       [4.7, 3.2, 1.6, 0.2],\n",
       "       [4.8, 3.1, 1.6, 0.2],\n",
       "       [5.4, 3.4, 1.5, 0.4],\n",
       "       [5.2, 4.1, 1.5, 0.1],\n",
       "       [5.5, 4.2, 1.4, 0.2],\n",
       "       [4.9, 3.1, 1.5, 0.1],\n",
       "       [5. , 3.2, 1.2, 0.2],\n",
       "       [5.5, 3.5, 1.3, 0.2],\n",
       "       [4.9, 3.1, 1.5, 0.1],\n",
       "       [4.4, 3. , 1.3, 0.2],\n",
       "       [5.1, 3.4, 1.5, 0.2],\n",
       "       [5. , 3.5, 1.3, 0.3],\n",
       "       [4.5, 2.3, 1.3, 0.3],\n",
       "       [4.4, 3.2, 1.3, 0.2],\n",
       "       [5. , 3.5, 1.6, 0.6],\n",
       "       [5.1, 3.8, 1.9, 0.4],\n",
       "       [4.8, 3. , 1.4, 0.3],\n",
       "       [5.1, 3.8, 1.6, 0.2],\n",
       "       [4.6, 3.2, 1.4, 0.2],\n",
       "       [5.3, 3.7, 1.5, 0.2],\n",
       "       [5. , 3.3, 1.4, 0.2],\n",
       "       [7. , 3.2, 4.7, 1.4],\n",
       "       [6.4, 3.2, 4.5, 1.5],\n",
       "       [6.9, 3.1, 4.9, 1.5],\n",
       "       [5.5, 2.3, 4. , 1.3],\n",
       "       [6.5, 2.8, 4.6, 1.5],\n",
       "       [5.7, 2.8, 4.5, 1.3],\n",
       "       [6.3, 3.3, 4.7, 1.6],\n",
       "       [4.9, 2.4, 3.3, 1. ],\n",
       "       [6.6, 2.9, 4.6, 1.3],\n",
       "       [5.2, 2.7, 3.9, 1.4],\n",
       "       [5. , 2. , 3.5, 1. ],\n",
       "       [5.9, 3. , 4.2, 1.5],\n",
       "       [6. , 2.2, 4. , 1. ],\n",
       "       [6.1, 2.9, 4.7, 1.4],\n",
       "       [5.6, 2.9, 3.6, 1.3],\n",
       "       [6.7, 3.1, 4.4, 1.4],\n",
       "       [5.6, 3. , 4.5, 1.5],\n",
       "       [5.8, 2.7, 4.1, 1. ],\n",
       "       [6.2, 2.2, 4.5, 1.5],\n",
       "       [5.6, 2.5, 3.9, 1.1],\n",
       "       [5.9, 3.2, 4.8, 1.8],\n",
       "       [6.1, 2.8, 4. , 1.3],\n",
       "       [6.3, 2.5, 4.9, 1.5],\n",
       "       [6.1, 2.8, 4.7, 1.2],\n",
       "       [6.4, 2.9, 4.3, 1.3],\n",
       "       [6.6, 3. , 4.4, 1.4],\n",
       "       [6.8, 2.8, 4.8, 1.4],\n",
       "       [6.7, 3. , 5. , 1.7],\n",
       "       [6. , 2.9, 4.5, 1.5],\n",
       "       [5.7, 2.6, 3.5, 1. ],\n",
       "       [5.5, 2.4, 3.8, 1.1],\n",
       "       [5.5, 2.4, 3.7, 1. ],\n",
       "       [5.8, 2.7, 3.9, 1.2],\n",
       "       [6. , 2.7, 5.1, 1.6],\n",
       "       [5.4, 3. , 4.5, 1.5],\n",
       "       [6. , 3.4, 4.5, 1.6],\n",
       "       [6.7, 3.1, 4.7, 1.5],\n",
       "       [6.3, 2.3, 4.4, 1.3],\n",
       "       [5.6, 3. , 4.1, 1.3],\n",
       "       [5.5, 2.5, 4. , 1.3],\n",
       "       [5.5, 2.6, 4.4, 1.2],\n",
       "       [6.1, 3. , 4.6, 1.4],\n",
       "       [5.8, 2.6, 4. , 1.2],\n",
       "       [5. , 2.3, 3.3, 1. ],\n",
       "       [5.6, 2.7, 4.2, 1.3],\n",
       "       [5.7, 3. , 4.2, 1.2],\n",
       "       [5.7, 2.9, 4.2, 1.3],\n",
       "       [6.2, 2.9, 4.3, 1.3],\n",
       "       [5.1, 2.5, 3. , 1.1],\n",
       "       [5.7, 2.8, 4.1, 1.3]])"
      ]
     },
     "execution_count": 17,
     "metadata": {},
     "output_type": "execute_result"
    }
   ],
   "source": [
    "X"
   ]
  },
  {
   "cell_type": "code",
   "execution_count": 18,
   "id": "79e8b134",
   "metadata": {},
   "outputs": [],
   "source": [
    "y = df[4].values"
   ]
  },
  {
   "cell_type": "code",
   "execution_count": 19,
   "id": "229044cb",
   "metadata": {},
   "outputs": [
    {
     "data": {
      "text/plain": [
       "array([ 1,  1,  1,  1,  1,  1,  1,  1,  1,  1,  1,  1,  1,  1,  1,  1,  1,\n",
       "        1,  1,  1,  1,  1,  1,  1,  1,  1,  1,  1,  1,  1,  1,  1,  1,  1,\n",
       "        1,  1,  1,  1,  1,  1,  1,  1,  1,  1,  1,  1,  1,  1,  1,  1, -1,\n",
       "       -1, -1, -1, -1, -1, -1, -1, -1, -1, -1, -1, -1, -1, -1, -1, -1, -1,\n",
       "       -1, -1, -1, -1, -1, -1, -1, -1, -1, -1, -1, -1, -1, -1, -1, -1, -1,\n",
       "       -1, -1, -1, -1, -1, -1, -1, -1, -1, -1, -1, -1, -1, -1, -1],\n",
       "      dtype=int64)"
      ]
     },
     "execution_count": 19,
     "metadata": {},
     "output_type": "execute_result"
    }
   ],
   "source": [
    "y"
   ]
  },
  {
   "cell_type": "code",
   "execution_count": 20,
   "id": "1af03487",
   "metadata": {},
   "outputs": [],
   "source": [
    "X_train, X_test, y_train, y_test = train_test_split(X, y, test_size=0.2)"
   ]
  },
  {
   "cell_type": "code",
   "execution_count": 27,
   "id": "9333ef54",
   "metadata": {},
   "outputs": [],
   "source": [
    "p = Perceptron(eta = 0.0001, epochs=1000) "
   ]
  },
  {
   "cell_type": "code",
   "execution_count": 28,
   "id": "4d900543",
   "metadata": {},
   "outputs": [],
   "source": [
    "p.fit(X_train, y_train) "
   ]
  },
  {
   "cell_type": "code",
   "execution_count": 29,
   "id": "7caf9ede",
   "metadata": {},
   "outputs": [],
   "source": [
    "y_pred = p.predict(X_test)"
   ]
  },
  {
   "cell_type": "code",
   "execution_count": 30,
   "id": "beb2e8dd",
   "metadata": {},
   "outputs": [
    {
     "data": {
      "text/plain": [
       "<matplotlib.collections.PathCollection at 0x21c139b08e0>"
      ]
     },
     "execution_count": 30,
     "metadata": {},
     "output_type": "execute_result"
    },
    {
     "data": {
      "image/png": "[encoded data removed]",
      "text/plain": [
       "<Figure size 640x480 with 1 Axes>"
      ]
     },
     "metadata": {},
     "output_type": "display_data"
    }
   ],
   "source": [
    "plt.scatter(range(p.epochs), p.list_of_errors)"
   ]
  },
  {
   "cell_type": "code",
   "execution_count": null,
   "id": "b0402b53",
   "metadata": {},
   "outputs": [],
   "source": []
  }
 ],
 "metadata": {
  "kernelspec": {
   "display_name": "Python 3 (ipykernel)",
   "language": "python",
   "name": "python3"
  },
  "language_info": {
   "codemirror_mode": {
    "name": "ipython",
    "version": 3
   },
   "file_extension": ".py",
   "mimetype": "text/x-python",
   "name": "python",
   "nbconvert_exporter": "python",
   "pygments_lexer": "ipython3",
   "version": "3.9.13"
  }
 },
 "nbformat": 4,
 "nbformat_minor": 5
}
